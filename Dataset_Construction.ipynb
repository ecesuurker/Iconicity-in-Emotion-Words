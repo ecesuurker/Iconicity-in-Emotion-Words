{
  "cells": [
    {
      "cell_type": "markdown",
      "metadata": {
        "id": "W4xhxeJIQwtI"
      },
      "source": [
        "Installing necessary modules."
      ]
    },
    {
      "cell_type": "code",
      "execution_count": null,
      "metadata": {
        "colab": {
          "base_uri": "https://localhost:8080/"
        },
        "id": "fFG14Sd1wYLH",
        "outputId": "8fc184b5-2d24-4a15-ea9f-752195270813"
      },
      "outputs": [
        {
          "output_type": "stream",
          "name": "stdout",
          "text": [
            "Collecting xmltodict\n",
            "  Downloading xmltodict-0.13.0-py2.py3-none-any.whl (10.0 kB)\n",
            "Installing collected packages: xmltodict\n",
            "Successfully installed xmltodict-0.13.0\n"
          ]
        }
      ],
      "source": [
        "!pip install xmltodict #The module that allows reading of the .xml files"
      ]
    },
    {
      "cell_type": "markdown",
      "source": [
        "Importing the necessary modules."
      ],
      "metadata": {
        "id": "JVS5yrmZnbky"
      }
    },
    {
      "cell_type": "code",
      "execution_count": null,
      "metadata": {
        "id": "fVfB4mEC6CoP"
      },
      "outputs": [],
      "source": [
        "from google.colab import drive\n",
        "import xmltodict\n",
        "import pandas as pd\n",
        "import os\n",
        "import numpy as np"
      ]
    },
    {
      "cell_type": "markdown",
      "metadata": {
        "id": "tw3CyRXYvCw7"
      },
      "source": [
        "To be able to access to the files that are going to be used in this code, I have uploaded them to my Google drive. And, by using the code below, I can let Colab access to the documents in my drive."
      ]
    },
    {
      "cell_type": "code",
      "execution_count": null,
      "metadata": {
        "colab": {
          "base_uri": "https://localhost:8080/"
        },
        "id": "odWEAOtbu5rq",
        "outputId": "a4258c40-8446-47e6-bfd2-8972ef92e7a5"
      },
      "outputs": [
        {
          "output_type": "stream",
          "name": "stdout",
          "text": [
            "Mounted at /content/drive\n"
          ]
        }
      ],
      "source": [
        "drive.mount('/content/drive')"
      ]
    },
    {
      "cell_type": "markdown",
      "metadata": {
        "id": "gd6arX6szqFq"
      },
      "source": [
        "Reading the file that contains the synsets of the WordNet items."
      ]
    },
    {
      "cell_type": "code",
      "execution_count": null,
      "metadata": {
        "colab": {
          "base_uri": "https://localhost:8080/"
        },
        "id": "39uNaUuAvbks",
        "outputId": "06967011-905b-42a1-f6f2-e760450a4c3e"
      },
      "outputs": [
        {
          "output_type": "stream",
          "name": "stdout",
          "text": [
            "{'noun-syn-list': {'noun-syn': [{'@id': 'n#07516905', '@categ': 'wrath'}, {'@id': 'n#07501420', '@categ': 'worship'}, {'@id': 'n#07533735', '@categ': 'world-weariness'}, {'@id': 'n#07509996', '@categ': 'wonder'}, {'@id': 'n#07533877', '@categ': 'woe'}, {'@id': 'n#07506031', '@categ': 'withdrawal'}, {'@id': 'n#07538812', '@categ': 'weight'}, {'@id': 'n#07534278', '@categ': 'weepiness'}, {'@id': 'n#07498614', '@categ': 'weakness'}, {'@id': 'n#07548860', '@categ': 'warpath'}, {'@id': 'n#07546279', '@categ': 'warmheartedness'}, {'@id': 'n#07550891', '@categ': 'vindictiveness'}, {'@id': 'n#07513711', '@categ': 'unrest'}, {'@id': 'n#07502241', '@categ': 'unfriendliness'}, {'@id': 'n#07505538', '@categ': 'neutral-unconcern'}, {'@id': 'n#07523649', '@categ': 'unassertiveness'}, {'@id': 'n#07517550', '@categ': 'umbrage'}, {'@id': 'n#07514520', '@categ': 'tumult'}, {'@id': 'n#07528097', '@categ': 'triumph'}, {'@id': 'n#07522043', '@categ': 'trepidation'}, {'@id': 'n#07515560', '@categ': 'tranquillity'}, {'@id': 'n#07530322', '@categ': 'togetherness'}, {'@id': 'n#07528976', '@categ': 'titillation'}, {'@id': 'n#07522729', '@categ': 'timidity'}, {'@id': 'n#07480356', '@categ': 'thing'}, {'@id': 'n#07554342', '@categ': 'tenderness'}, {'@id': 'n#07553301', '@categ': 'sympathy'}, {'@id': 'n#07511238', '@categ': 'positive-suspense'}, {'@id': 'n#07522632', '@categ': 'negative-suspense'}, {'@id': 'n#07510348', '@categ': 'surprise'}, {'@id': 'n#07549401', '@categ': 'sulkiness'}, {'@id': 'n#07510495', '@categ': 'stupefaction'}, {'@id': 'n#07514345', '@categ': 'stir'}, {'@id': 'n#07514189', '@categ': 'stewing'}, {'@id': 'n#07521563', '@categ': 'stage-fright'}, {'@id': 'n#07535670', '@categ': 'regret-sorrow'}, {'@id': 'n#07534430', '@categ': 'lost-sorrow'}, {'@id': 'n#07505207', '@categ': 'solicitude'}, {'@id': 'n#07505347', '@categ': 'softheartedness'}, {'@id': 'n#07545594', '@categ': 'soft-spot'}, {'@id': 'n#07531998', '@categ': 'smugness'}, {'@id': 'n#07525367', '@categ': 'sinking'}, {'@id': 'n#07523180', '@categ': 'shyness'}, {'@id': 'n#07507560', '@categ': 'shamefacedness'}, {'@id': 'n#07506569', '@categ': 'shame'}, {'@id': 'n#07522418', '@categ': 'shadow'}, {'@id': 'n#07514782', '@categ': 'sensation'}, {'@id': 'n#07538272', '@categ': 'self-pity'}, {'@id': 'n#07508705', '@categ': 'self-esteem'}, {'@id': 'n#07506962', '@categ': 'self-disgust'}, {'@id': 'n#07509474', '@categ': 'self-depreciation'}, {'@id': 'n#07507329', '@categ': 'self-consciousness'}, {'@id': 'n#07526338', '@categ': 'security'}, {'@id': 'n#07525555', '@categ': 'scruple'}, {'@id': 'n#07521437', '@categ': 'scare'}, {'@id': 'n#07531255', '@categ': 'satisfaction'}, {'@id': 'n#07541760', '@categ': 'sanguinity'}, {'@id': 'n#07532440', '@categ': 'sadness'}, {'@id': 'n#07521039', '@categ': 'reverence'}, {'@id': 'n#07542433', '@categ': 'resignation'}, {'@id': 'n#07548978', '@categ': 'resentment'}, {'@id': 'n#07503987', '@categ': 'repugnance'}, {'@id': 'n#07536870', '@categ': 'repentance'}, {'@id': 'n#07529563', '@categ': 'rejoicing'}, {'@id': 'n#07545415', '@categ': 'regard'}, {'@id': 'n#07544351', '@categ': 'puppy-love'}, {'@id': 'n#07545303', '@categ': 'protectiveness'}, {'@id': 'n#07531536', '@categ': 'satisfaction-pride'}, {'@id': 'n#07508486', '@categ': 'joy-pride'}, {'@id': 'n#07522536', '@categ': 'presage'}, {'@id': 'n#07498210', '@categ': 'preference'}, {'@id': 'n#07535430', '@categ': 'plaintiveness'}, {'@id': 'n#07515169', '@categ': 'placidity'}, {'@id': 'n#07518468', '@categ': 'pique'}, {'@id': 'n#07543033', '@categ': 'pessimism'}, {'@id': 'n#07533607', '@categ': 'pensiveness'}, {'@id': 'n#07515790', '@categ': 'peace'}, {'@id': 'n#07520612', '@categ': 'panic'}, {'@id': 'n#07541558', '@categ': 'optimism'}, {'@id': 'n#07538674', '@categ': 'oppression'}, {'@id': 'n#07504111', '@categ': 'nausea'}, {'@id': 'n#07547547', '@categ': 'murderousness'}, {'@id': 'n#07535209', '@categ': 'mournfulness'}, {'@id': 'n#07547473', '@categ': 'misopedia'}, {'@id': 'n#07547293', '@categ': 'misoneism'}, {'@id': 'n#07547219', '@categ': 'misology'}, {'@id': 'n#07547064', '@categ': 'misogyny'}, {'@id': 'n#07546973', '@categ': 'misogamy'}, {'@id': 'n#07547397', '@categ': 'misocainea'}, {'@id': 'n#07533978', '@categ': 'misery'}, {'@id': 'n#07546844', '@categ': 'misanthropy'}, {'@id': 'n#07554500', '@categ': 'mercifulness'}, {'@id': 'n#07533097', '@categ': 'melancholy'}, {'@id': 'n#07509325', '@categ': 'meekness'}, {'@id': 'n#07550666', '@categ': 'malice'}, {'@id': 'n#07550369', '@categ': 'malevolence'}, {'@id': 'n#07550551', '@categ': 'maleficence'}, {'@id': 'n#07546389', '@categ': 'loyalty'}, {'@id': 'n#07546125', '@categ': 'lovingness'}, {'@id': 'n#07543288', '@categ': 'love'}, {'@id': 'n#07517292', '@categ': 'lividity'}, {'@id': 'n#07497473', '@categ': 'liking'}, {'@id': 'n#07511906', '@categ': 'levity'}, {'@id': 'n#07484109', '@categ': 'neutral-languor'}, {'@id': 'n#07516222', '@categ': 'positive-languor'}, {'@id': 'n#07553590', '@categ': 'kindheartedness'}, {'@id': 'n#07537376', '@categ': 'joylessness'}, {'@id': 'n#07527352', '@categ': 'joy'}, {'@id': 'n#07551890', '@categ': 'jollity'}, {'@id': 'n#07529683', '@categ': 'jocundity'}, {'@id': 'n#07525760', '@categ': 'jitteriness'}, {'@id': 'n#07550079', '@categ': 'jealousy'}, {'@id': 'n#07502576', '@categ': 'isolation'}, {'@id': 'n#07552549', '@categ': 'irascibility'}, {'@id': 'n#07523760', '@categ': 'fear-intimidation'}, {'@id': 'n#07542881', '@categ': 'despair-intimidation'}, {'@id': 'n#07524918', '@categ': 'insecurity'}, {'@id': 'n#07504711', '@categ': 'ingratitude'}, {'@id': 'n#07517417', '@categ': 'infuriation'}, {'@id': 'n#07517737', '@categ': 'indignation'}, {'@id': 'n#07505676', '@categ': 'indifference'}, {'@id': 'n#07514071', '@categ': 'impatience'}, {'@id': 'n#00152018', '@categ': 'identification'}, {'@id': 'n#07520507', '@categ': 'hysteria'}, {'@id': 'n#07509131', '@categ': 'humility'}, {'@id': 'n#07517869', '@categ': 'huffiness'}, {'@id': 'n#07547805', '@categ': 'hostility'}, {'@id': 'n#07520411', '@categ': 'horror'}, {'@id': 'n#07542249', '@categ': 'hopelessness'}, {'@id': 'n#07541316', '@categ': 'hopefulness'}, {'@id': 'n#07541053', '@categ': 'positive-hope'}, {'@id': 'n#07511733', '@categ': 'ambiguous-hope'}, {'@id': 'n#07529377', '@categ': 'hilarity'}, {'@id': 'n#07523485', '@categ': 'hesitance'}, {'@id': 'n#07501093', '@categ': 'hero-worship'}, {'@id': 'n#07538142', '@categ': 'helplessness'}, {'@id': 'n#07533492', '@categ': 'heavyheartedness'}, {'@id': 'n#07506149', '@categ': 'heartlessness'}, {'@id': 'n#07549265', '@categ': 'heartburning'}, {'@id': 'n#07546465', '@categ': 'hate'}, {'@id': 'n#07519040', '@categ': 'harassment'}, {'@id': 'n#07526757', '@categ': 'happiness'}, {'@id': 'n#07491981', '@categ': 'gusto'}, {'@id': 'n#07536245', '@categ': 'guilt'}, {'@id': 'n#07549536', '@categ': 'grudge'}, {'@id': 'n#07535010', '@categ': 'grief'}, {'@id': 'n#07512147', '@categ': 'gravity'}, {'@id': 'n#07504343', '@categ': 'gratitude'}, {'@id': 'n#07504529', '@categ': 'gratefulness'}, {'@id': 'n#07499930', '@categ': 'good-will'}, {'@id': 'n#07533257', '@categ': 'gloom'}, {'@id': 'n#07532276', '@categ': 'gloat'}, {'@id': 'n#07527167', '@categ': 'gladness'}, {'@id': 'n#07512039', '@categ': 'levity-gaiety'}, {'@id': 'n#07529245', '@categ': 'general-gaiety'}, {'@id': 'n#07516997', '@categ': 'fury'}, {'@id': 'n#07532112', '@categ': 'fulfillment'}, {'@id': 'n#07518663', '@categ': 'frustration'}, {'@id': 'n#07520112', '@categ': 'frisson'}, {'@id': 'n#07499615', '@categ': 'friendliness'}, {'@id': 'n#07534108', '@categ': 'forlornness'}, {'@id': 'n#07554640', '@categ': 'forgiveness'}, {'@id': 'n#07522128', '@categ': 'foreboding'}, {'@id': 'n#07497797', '@categ': 'fondness'}, {'@id': 'n#14406303', '@categ': 'fit'}, {'@id': 'n#07513795', '@categ': 'fidget'}, {'@id': 'n#07511380', '@categ': 'fever'}, {'@id': 'n#07526182', '@categ': 'fearlessness'}, {'@id': 'n#07519253', '@categ': 'negative-fear'}, {'@id': 'n#07500414', '@categ': 'favor'}, {'@id': 'n#07527817', '@categ': 'exultation'}, {'@id': 'n#07555647', '@categ': 'exuberance'}, {'@id': 'n#07510923', '@categ': 'ambiguous-expectation'}, {'@id': 'n#07528212', '@categ': 'exhilaration'}, {'@id': 'n#07529096', '@categ': 'euphoria'}, {'@id': 'n#07549716', '@categ': 'envy'}, {'@id': 'n#07555014', '@categ': 'enthusiasm'}, {'@id': 'n#07541449', '@categ': 'encouragement'}, {'@id': 'n#07554856', '@categ': 'empathy'}, {'@id': 'n#07483782', '@categ': 'emotionlessness'}, {'@id': 'n#07507098', '@categ': 'embarrassment'}, {'@id': 'n#07514600', '@categ': 'electricity'}, {'@id': 'n#07527656', '@categ': 'elation'}, {'@id': 'n#07508806', '@categ': 'ego'}, {'@id': 'n#07525057', '@categ': 'edginess'}, {'@id': 'n#07515974', '@categ': 'easiness'}, {'@id': 'n#07512315', '@categ': 'earnestness'}, {'@id': 'n#07555184', '@categ': 'eagerness'}, {'@id': 'n#07539367', '@categ': 'dysphoria'}, {'@id': 'n#07516756', '@categ': 'dudgeon'}, {'@id': 'n#07537668', '@categ': 'downheartedness'}, {'@id': 'n#07535532', '@categ': 'dolor'}, {'@id': 'n#07532832', '@categ': 'dolefulness'}, {'@id': 'n#07524242', '@categ': 'distress'}, {'@id': 'n#07505871', '@categ': 'distance'}, {'@id': 'n#07540424', '@categ': 'displeasure'}, {'@id': 'n#07501545', '@categ': 'dislike'}, {'@id': 'n#07501922', '@categ': 'disinclination'}, {'@id': 'n#07503260', '@categ': 'disgust'}, {'@id': 'n#07542675', '@categ': 'discouragement'}, {'@id': 'n#07508232', '@categ': 'discomfiture'}, {'@id': 'n#07502829', '@categ': 'disapproval'}, {'@id': 'n#07523286', '@categ': 'diffidence'}, {'@id': 'n#07544491', '@categ': 'devotion'}, {'@id': 'n#07538395', '@categ': 'despondency'}, {'@id': 'n#07547674', '@categ': 'despisal'}, {'@id': 'n#07541923', '@categ': 'despair'}, {'@id': 'n#07537485', '@categ': 'depression'}, {'@id': 'n#07537973', '@categ': 'demoralization'}, {'@id': 'n#07542560', '@categ': 'defeatism'}, {'@id': 'n#07510625', '@categ': 'daze'}, {'@id': 'n#07518000', '@categ': 'dander'}, {'@id': 'n#07543204', '@categ': 'cynicism'}, {'@id': 'n#07506382', '@categ': 'cruelty'}, {'@id': 'n#07519983', '@categ': 'creeps'}, {'@id': 'n#07549979', '@categ': 'covetousness'}, {'@id': 'n#07515328', '@categ': 'coolness'}, {'@id': 'n#07531105', '@categ': 'contentment'}, {'@id': 'n#07502980', '@categ': 'contempt'}, {'@id': 'n#07506797', '@categ': 'conscience'}, {'@id': 'n#07507912', '@categ': 'confusion'}, {'@id': 'n#07526505', '@categ': 'confidence'}, {'@id': 'n#07504841', '@categ': 'positive-concern'}, {'@id': 'n#07524529', '@categ': 'negative-concern'}, {'@id': 'n#07536074', '@categ': 'compunction'}, {'@id': 'n#07531713', '@categ': 'complacency'}, {'@id': 'n#07554758', '@categ': 'compatibility'}, {'@id': 'n#07553741', '@categ': 'compassion'}, {'@id': 'n#07553964', '@categ': 'commiseration'}, {'@id': 'n#07530000', '@categ': 'comfortableness'}, {'@id': 'n#07530124', '@categ': 'closeness'}, {'@id': 'n#07548224', '@categ': 'class-feeling'}, {'@id': 'n#07537259', '@categ': 'chill'}, {'@id': 'n#07537068', '@categ': 'cheerlessness'}, {'@id': 'n#07530478', '@categ': 'cheerfulness'}, {'@id': 'n#07507742', '@categ': 'chagrin'}, {'@id': 'n#07530866', '@categ': 'carefreeness'}, {'@id': 'n#07497976', '@categ': 'captivation'}, {'@id': 'n#07514968', '@categ': 'calmness'}, {'@id': 'n#07530723', '@categ': 'buoyancy'}, {'@id': 'n#07511524', '@categ': 'buck-fever'}, {'@id': 'n#07500042', '@categ': 'brotherhood'}, {'@id': 'n#07527061', '@categ': 'bonheur'}, {'@id': 'n#14404460', '@categ': 'blue-devils'}, {'@id': 'n#07545717', '@categ': 'benevolence'}, {'@id': 'n#07545833', '@categ': 'beneficence'}, {'@id': 'n#07529817', '@categ': 'belonging'}, {'@id': 'n#07548695', '@categ': 'belligerence'}, {'@id': 'n#07528470', '@categ': 'bang'}, {'@id': 'n#07518132', '@categ': 'bad-temper'}, {'@id': 'n#07510184', '@categ': 'awe'}, {'@id': 'n#07534700', '@categ': 'attrition'}, {'@id': 'n#07545161', '@categ': 'attachment'}, {'@id': 'n#07509572', '@categ': 'astonishment'}, {'@id': 'n#07544129', '@categ': 'love-ardor'}, {'@id': 'n#07555402', '@categ': 'enthusiasm-ardor'}, {'@id': 'n#07500159', '@categ': 'approval'}, {'@id': 'n#07521674', '@categ': 'apprehension'}, {'@id': 'n#07483622', '@categ': 'apathy'}, {'@id': 'n#07524760', '@categ': 'anxiousness'}, {'@id': 'n#07523905', '@categ': 'anxiety'}, {'@id': 'n#07502669', '@categ': 'antipathy'}, {'@id': 'n#07511080', '@categ': 'anticipation'}, {'@id': 'n#07548366', '@categ': 'antagonism'}, {'@id': 'n#07518261', '@categ': 'annoyance'}, {'@id': 'n#07548100', '@categ': 'animosity'}, {'@id': 'n#07516354', '@categ': 'anger'}, {'@id': 'n#07508996', '@categ': 'amour-propre'}, {'@id': 'n#07544213', '@categ': 'amorousness'}, {'@id': 'n#07499830', '@categ': 'amicability'}, {'@id': 'n#07502387', '@categ': 'alienation'}, {'@id': 'n#07519773', '@categ': 'alarm'}, {'@id': 'n#07513508', '@categ': 'ambiguous-agitation'}, {'@id': 'n#07548567', '@categ': 'aggression'}, {'@id': 'n#07518878', '@categ': 'aggravation'}, {'@id': 'n#07544647', '@categ': 'affection'}, {'@id': 'n#07500741', '@categ': 'admiration'}, {'@id': 'n#07503430', '@categ': 'abhorrence'}, {'@id': 'n#07508092', '@categ': 'abashment'}, {'@id': 'n#07526002', '@categ': 'angst'}]}, 'adj-syn-list': {'adj-syn': [{'@id': 'a#01737241', '@noun-id': 'n#07514071', '@caus-stat': 'stat'}, {'@id': 'a#00811536', '@noun-id': 'n#07514071', '@caus-stat': 'stat'}, {'@id': 'a#01626562', '@noun-id': 'n#07503987', '@caus-stat': 'caus'}, {'@id': 'a#00480965', '@noun-id': 'n#07507329', '@caus-stat': 'stat'}, {'@id': 'a#01632314', '@noun-id': 'n#07509474', '@caus-stat': 'stat'}, {'@id': 'a#00154163', '@noun-id': 'n#07506569', '@caus-stat': 'stat'}, {'@id': 'a#02405805', '@noun-id': 'n#07522632', '@caus-stat': 'caus'}, {'@id': 'a#02405805', '@noun-id': 'n#07511238', '@caus-stat': 'caus'}, {'@id': 'a#01807605', '@noun-id': 'n#07500741', '@caus-stat': 'caus'}, {'@id': 'a#00904290', '@noun-id': 'n#07500741', '@caus-stat': 'caus'}, {'@id': 'a#00854255', '@noun-id': 'n#07544647', '@caus-stat': 'caus'}, {'@id': 'a#00114266', '@noun-id': 'n#07518878', '@caus-stat': 'stat'}, {'@id': 'a#00085264', '@noun-id': 'n#07513508', '@caus-stat': 'stat'}, {'@id': 'a#00078851', '@noun-id': 'n#07519773', '@caus-stat': 'stat'}, {'@id': 'a#01463326', '@noun-id': 'n#07502387', '@caus-stat': 'stat'}, {'@id': 'a#01683908', '@noun-id': 'n#07502387', '@caus-stat': 'stat'}, {'@id': 'a#01246579', '@noun-id': 'n#07499830', '@caus-stat': 'stat'}, {'@id': 'a#01465214', '@noun-id': 'n#07544213', '@caus-stat': 'caus'}, {'@id': 'a#01465061', '@noun-id': 'n#07544213', '@caus-stat': 'stat'}, {'@id': 'a#00113818', '@noun-id': 'n#07516354', '@caus-stat': 'stat'}, {'@id': 'a#00114454', '@noun-id': 'n#07516354', '@caus-stat': 'caus'}, {'@id': 'a#00089550', '@noun-id': 'n#07518261', '@caus-stat': 'caus'}, {'@id': 'a#02455845', '@noun-id': 'n#07518261', '@caus-stat': 'stat'}, {'@id': 'a#01806106', '@noun-id': 'n#07518261', '@caus-stat': 'stat'}, {'@id': 'a#01293396', '@noun-id': 'n#07502669', '@caus-stat': 'stat'}, {'@id': 'a#02456157', '@noun-id': 'n#07523905', '@caus-stat': 'caus'}, {'@id': 'a#00822907', '@noun-id': 'n#07523905', '@caus-stat': 'stat'}, {'@id': 'a#02456157', '@noun-id': 'n#07524760', '@caus-stat': 'caus'}, {'@id': 'a#00822907', '@noun-id': 'n#07524760', '@caus-stat': 'stat'}, {'@id': 'a#02281611', '@noun-id': 'n#07483622', '@caus-stat': 'stat'}, {'@id': 'a#00079069', '@noun-id': 'n#07521674', '@caus-stat': 'stat'}, {'@id': 'a#00822907', '@noun-id': 'n#07521674', '@caus-stat': 'stat'}, {'@id': 'a#00996089', '@noun-id': 'n#07500159', '@caus-stat': 'stat'}, {'@id': 'a#00179035', '@noun-id': 'n#07500159', '@caus-stat': 'caus'}, {'@id': 'a#01283155', '@noun-id': 'n#07509572', '@caus-stat': 'caus'}, {'@id': 'a#02359789', '@noun-id': 'n#07509572', '@caus-stat': 'caus'}, {'@id': 'a#02357810', '@noun-id': 'n#07509572', '@caus-stat': 'stat'}, {'@id': 'a#02014715', '@noun-id': 'n#07510184', '@caus-stat': 'stat'}, {'@id': 'a#02012157', '@noun-id': 'n#07510184', '@caus-stat': 'stat'}, {'@id': 'a#01244846', '@noun-id': 'n#07548695', '@caus-stat': 'stat'}, {'@id': 'a#00223802', '@noun-id': 'n#07545833', '@caus-stat': 'caus'}, {'@id': 'a#00208052', '@noun-id': 'n#07545833', '@caus-stat': 'stat'}, {'@id': 'a#00224031', '@noun-id': 'n#07545833', '@caus-stat': 'caus'}, {'@id': 'a#01372948', '@noun-id': 'n#07545717', '@caus-stat': 'stat'}, {'@id': 'a#00291471', '@noun-id': 'n#07500042', '@caus-stat': 'stat'}, {'@id': 'a#00197151', '@noun-id': 'n#07514968', '@caus-stat': 'caus'}, {'@id': 'a#00529657', '@noun-id': 'n#07514968', '@caus-stat': 'stat'}, {'@id': 'a#00865620', '@noun-id': 'n#07497976', '@caus-stat': 'stat'}, {'@id': 'a#01465583', '@noun-id': 'n#07497976', '@caus-stat': 'stat'}, {'@id': 'a#00166753', '@noun-id': 'n#07497976', '@caus-stat': 'caus'}, {'@id': 'a#02459465', '@noun-id': 'n#07530866', '@caus-stat': 'stat'}, {'@id': 'a#00531628', '@noun-id': 'n#07507742', '@caus-stat': 'stat'}, {'@id': 'a#00362467', '@noun-id': 'n#07530478', '@caus-stat': 'caus'}, {'@id': 'a#00362467', '@noun-id': 'n#07530478', '@caus-stat': 'stat'}, {'@id': 'a#00364479', '@noun-id': 'n#07537068', '@caus-stat': 'caus'}, {'@id': 'a#00364479', '@noun-id': 'n#07537068', '@caus-stat': 'stat'}, {'@id': 'a#00194924', '@noun-id': 'n#07537259', '@caus-stat': 'caus'}, {'@id': 'a#00451510', '@noun-id': 'n#07530124', '@caus-stat': 'stat'}, {'@id': 'a#00479330', '@noun-id': 'n#07530000', '@caus-stat': 'caus'}, {'@id': 'a#02072923', '@noun-id': 'n#07554758', '@caus-stat': 'stat'}, {'@id': 'a#00589067', '@noun-id': 'n#07531713', '@caus-stat': 'stat'}, {'@id': 'a#00543603', '@noun-id': 'n#07524529', '@caus-stat': 'caus'}, {'@id': 'a#00337172', '@noun-id': 'n#07526505', '@caus-stat': 'stat'}, {'@id': 'a#01685706', '@noun-id': 'n#07507912', '@caus-stat': 'caus'}, {'@id': 'a#01669246', '@noun-id': 'n#07507912', '@caus-stat': 'stat'}, {'@id': 'a#00588797', '@noun-id': 'n#07531105', '@caus-stat': 'stat'}, {'@id': 'a#01148283', '@noun-id': 'n#07531105', '@caus-stat': 'stat'}, {'@id': 'a#00887317', '@noun-id': 'n#07515328', '@caus-stat': 'stat'}, {'@id': 'a#02531422', '@noun-id': 'n#07515328', '@caus-stat': 'stat'}, {'@id': 'a#00029933', '@noun-id': 'n#07549979', '@caus-stat': 'stat'}, {'@id': 'a#00888765', '@noun-id': 'n#07549979', '@caus-stat': 'stat'}, {'@id': 'a#01373728', '@noun-id': 'n#07506382', '@caus-stat': 'stat'}, {'@id': 'a#02463582', '@noun-id': 'n#07543204', '@caus-stat': 'stat'}, {'@id': 'a#01283787', '@noun-id': 'n#07510625', '@caus-stat': 'caus'}, {'@id': 'a#00436645', '@noun-id': 'n#07510625', '@caus-stat': 'stat'}, {'@id': 'a#02333976', '@noun-id': 'n#07542560', '@caus-stat': 'stat'}, {'@id': 'a#00867615', '@noun-id': 'n#07537973', '@caus-stat': 'caus'}, {'@id': 'a#01664880', '@noun-id': 'n#07537973', '@caus-stat': 'stat'}, {'@id': 'a#00703615', '@noun-id': 'n#07537485', '@caus-stat': 'stat'}, {'@id': 'a#00364479', '@noun-id': 'n#07537485', '@caus-stat': 'caus'}, {'@id': 'a#01229826', '@noun-id': 'n#07541923', '@caus-stat': 'stat'}, {'@id': 'a#01230153', '@noun-id': 'n#07538395', '@caus-stat': 'stat'}, {'@id': 'a#00519668', '@noun-id': 'n#07544491', '@caus-stat': 'stat'}, {'@id': 'a#01987856', '@noun-id': 'n#07523286', '@caus-stat': 'stat'}, {'@id': 'a#01771381', '@noun-id': 'n#07502829', '@caus-stat': 'stat'}, {'@id': 'a#00997298', '@noun-id': 'n#07502829', '@caus-stat': 'stat'}, {'@id': 'a#00531628', '@noun-id': 'n#07508232', '@caus-stat': 'stat'}, {'@id': 'a#00867213', '@noun-id': 'n#07542675', '@caus-stat': 'caus'}, {'@id': 'a#01992418', '@noun-id': 'n#07542675', '@caus-stat': 'stat'}, {'@id': 'a#01664880', '@noun-id': 'n#07542675', '@caus-stat': 'stat'}, {'@id': 'a#01625893', '@noun-id': 'n#07503260', '@caus-stat': 'caus'}, {'@id': 'a#01806677', '@noun-id': 'n#07503260', '@caus-stat': 'stat'}, {'@id': 'a#01293158', '@noun-id': 'n#07501922', '@caus-stat': 'stat'}, {'@id': 'a#01461597', '@noun-id': 'n#07501545', '@caus-stat': 'caus'}, {'@id': 'a#01808822', '@noun-id': 'n#07540424', '@caus-stat': 'caus'}, {'@id': 'a#01805889', '@noun-id': 'n#07540424', '@caus-stat': 'stat'}, {'@id': 'a#00544231', '@noun-id': 'n#07524242', '@caus-stat': 'stat'}, {'@id': 'a#01189386', '@noun-id': 'n#07524242', '@caus-stat': 'caus'}, {'@id': 'a#02457167', '@noun-id': 'n#07524242', '@caus-stat': 'stat'}, {'@id': 'a#00909363', '@noun-id': 'n#07524242', '@caus-stat': 'stat'}, {'@id': 'a#01362387', '@noun-id': 'n#07532832', '@caus-stat': 'caus'}, {'@id': 'a#01362387', '@noun-id': 'n#07532832', '@caus-stat': 'stat'}, {'@id': 'a#00703615', '@noun-id': 'n#07537668', '@caus-stat': 'stat'}, {'@id': 'a#00909363', '@noun-id': 'n#07539367', '@caus-stat': 'stat'}, {'@id': 'a#00886253', '@noun-id': 'n#07555184', '@caus-stat': 'stat'}, {'@id': 'a#02179968', '@noun-id': 'n#07512315', '@caus-stat': 'stat'}, {'@id': 'a#00822115', '@noun-id': 'n#07515974', '@caus-stat': 'stat'}, {'@id': 'a#02406370', '@noun-id': 'n#07525057', '@caus-stat': 'stat'}, {'@id': 'a#01367211', '@noun-id': 'n#07527656', '@caus-stat': 'stat'}, {'@id': 'a#00704609', '@noun-id': 'n#07527656', '@caus-stat': 'stat'}, {'@id': 'a#00921538', '@noun-id': 'n#07527656', '@caus-stat': 'caus'}, {'@id': 'a#00921866', '@noun-id': 'n#07514600', '@caus-stat': 'caus'}, {'@id': 'a#00746047', '@noun-id': 'n#07507098', '@caus-stat': 'caus'}, {'@id': 'a#01803335', '@noun-id': 'n#07507098', '@caus-stat': 'caus'}, {'@id': 'a#00154270', '@noun-id': 'n#07507098', '@caus-stat': 'stat'}, {'@id': 'a#01257990', '@noun-id': 'n#07483782', '@caus-stat': 'stat'}, {'@id': 'a#02375639', '@noun-id': 'n#07554856', '@caus-stat': 'stat'}, {'@id': 'a#00866471', '@noun-id': 'n#07541449', '@caus-stat': 'caus'}, {'@id': 'a#01805489', '@noun-id': 'n#07541449', '@caus-stat': 'stat'}, {'@id': 'a#00921014', '@noun-id': 'n#07555014', '@caus-stat': 'caus'}, {'@id': 'a#00885695', '@noun-id': 'n#07555014', '@caus-stat': 'stat'}, {'@id': 'a#00733541', '@noun-id': 'n#07549716', '@caus-stat': 'caus'}, {'@id': 'a#00888765', '@noun-id': 'n#07549716', '@caus-stat': 'stat'}, {'@id': 'a#02566299', '@noun-id': 'n#07549716', '@caus-stat': 'stat'}, {'@id': 'a#00909118', '@noun-id': 'n#07529096', '@caus-stat': 'caus'}, {'@id': 'a#00908929', '@noun-id': 'n#07529096', '@caus-stat': 'stat'}, {'@id': 'a#00705336', '@noun-id': 'n#07528212', '@caus-stat': 'stat'}, {'@id': 'a#01357342', '@noun-id': 'n#07528212', '@caus-stat': 'caus'}, {'@id': 'a#01228797', '@noun-id': 'n#07510923', '@caus-stat': 'stat'}, {'@id': 'a#00704898', '@noun-id': 'n#07527817', '@caus-stat': 'stat'}, {'@id': 'a#00995775', '@noun-id': 'n#07500414', '@caus-stat': 'stat'}, {'@id': 'a#00079485', '@noun-id': 'n#07519253', '@caus-stat': 'stat'}, {'@id': 'a#01127147', '@noun-id': 'n#07519253', '@caus-stat': 'caus'}, {'@id': 'a#00193799', '@noun-id': 'n#07519253', '@caus-stat': 'caus'}, {'@id': 'a#00077645', '@noun-id': 'n#07519253', '@caus-stat': 'stat'}, {'@id': 'a#00250119', '@noun-id': 'n#07526182', '@caus-stat': 'stat'}, {'@id': 'a#00081671', '@noun-id': 'n#07526182', '@caus-stat': 'stat'}, {'@id': 'a#00086210', '@noun-id': 'n#07511380', '@caus-stat': 'stat'}, {'@id': 'a#00920167', '@noun-id': 'n#07511380', '@caus-stat': 'stat'}, {'@id': 'a#02406166', '@noun-id': 'n#07513795', '@caus-stat': 'stat'}, {'@id': 'a#01464700', '@noun-id': 'n#07497797', '@caus-stat': 'stat'}, {'@id': 'a#01721197', '@noun-id': 'n#07554640', '@caus-stat': 'caus'}, {'@id': 'a#01230387', '@noun-id': 'n#07534108', '@caus-stat': 'stat'}, {'@id': 'a#01246801', '@noun-id': 'n#07499615', '@caus-stat': 'stat'}, {'@id': 'a#00867758', '@noun-id': 'n#07518663', '@caus-stat': 'caus'}, {'@id': 'a#01992418', '@noun-id': 'n#07518663', '@caus-stat': 'stat'}, {'@id': 'a#01809245', '@noun-id': 'n#07516997', '@caus-stat': 'caus'}, {'@id': 'a#00114454', '@noun-id': 'n#07516997', '@caus-stat': 'stat'}, {'@id': 'a#01367431', '@noun-id': 'n#07529245', '@caus-stat': 'caus'}, {'@id': 'a#01367651', '@noun-id': 'n#07529245', '@caus-stat': 'stat'}, {'@id': 'a#00363938', '@noun-id': 'n#07529245', '@caus-stat': 'caus'}, {'@id': 'a#01367431', '@noun-id': 'n#07512039', '@caus-stat': 'caus'}, {'@id': 'a#01367651', '@noun-id': 'n#07512039', '@caus-stat': 'stat'}, {'@id': 'a#00363938', '@noun-id': 'n#07512039', '@caus-stat': 'caus'}, {'@id': 'a#01361705', '@noun-id': 'n#07527167', '@caus-stat': 'stat'}, {'@id': 'a#00362892', '@noun-id': 'n#07527167', '@caus-stat': 'caus'}, {'@id': 'a#00362892', '@noun-id': 'n#07527167', '@caus-stat': 'stat'}, {'@id': 'a#01146920', '@noun-id': 'n#07527167', '@caus-stat': 'stat'}, {'@id': 'a#01361414', '@noun-id': 'n#07527167', '@caus-stat': 'caus'}, {'@id': 'a#01361414', '@noun-id': 'n#07527167', '@caus-stat': 'stat'}, {'@id': 'a#00364881', '@noun-id': 'n#07533257', '@caus-stat': 'caus'}, {'@id': 'a#00704270', '@noun-id': 'n#07533257', '@caus-stat': 'stat'}, {'@id': 'a#01137378', '@noun-id': 'n#07533257', '@caus-stat': 'stat'}, {'@id': 'a#00364479', '@noun-id': 'n#07533257', '@caus-stat': 'caus'}, {'@id': 'a#00364881', '@noun-id': 'n#07533257', '@caus-stat': 'caus'}, {'@id': 'a#00703615', '@noun-id': 'n#07533257', '@caus-stat': 'stat'}, {'@id': 'a#00275764', '@noun-id': 'n#07533257', '@caus-stat': 'caus'}, {'@id': 'a#01146493', '@noun-id': 'n#07504529', '@caus-stat': 'stat'}, {'@id': 'a#01146493', '@noun-id': 'n#07504343', '@caus-stat': 'stat'}, {'@id': 'a#01365544', '@noun-id': 'n#07535010', '@caus-stat': 'stat'}, {'@id': 'a#01365544', '@noun-id': 'n#07535010', '@caus-stat': 'caus'}, {'@id': 'a#01364817', '@noun-id': 'n#07535010', '@caus-stat': 'stat'}, {'@id': 'a#00154583', '@noun-id': 'n#07536245', '@caus-stat': 'stat'}, {'@id': 'a#00908929', '@noun-id': 'n#07526757', '@caus-stat': 'stat'}, {'@id': 'a#01805157', '@noun-id': 'n#07526757', '@caus-stat': 'stat'}, {'@id': 'a#01148283', '@noun-id': 'n#07526757', '@caus-stat': 'stat'}, {'@id': 'a#01460421', '@noun-id': 'n#07546465', '@caus-stat': 'caus'}, {'@id': 'a#01158020', '@noun-id': 'n#07506149', '@caus-stat': 'stat'}, {'@id': 'a#01362598', '@noun-id': 'n#07533492', '@caus-stat': 'stat'}, {'@id': 'a#01266841', '@noun-id': 'n#07529377', '@caus-stat': 'caus'}, {'@id': 'a#01266841', '@noun-id': 'n#07529377', '@caus-stat': 'stat'}, {'@id': 'a#01228530', '@noun-id': 'n#07511733', '@caus-stat': 'caus'}, {'@id': 'a#01228530', '@noun-id': 'n#07511733', '@caus-stat': 'stat'}, {'@id': 'a#01228530', '@noun-id': 'n#07541053', '@caus-stat': 'caus'}, {'@id': 'a#01228530', '@noun-id': 'n#07541316', '@caus-stat': 'caus'}, {'@id': 'a#01229020', '@noun-id': 'n#07542249', '@caus-stat': 'stat'}, {'@id': 'a#00193480', '@noun-id': 'n#07520411', '@caus-stat': 'caus'}, {'@id': 'a#00079786', '@noun-id': 'n#07520411', '@caus-stat': 'stat'}, {'@id': 'a#00193799', '@noun-id': 'n#07520411', '@caus-stat': 'caus'}, {'@id': 'a#01626562', '@noun-id': 'n#07520411', '@caus-stat': 'caus'}, {'@id': 'a#00193480', '@noun-id': 'n#07520411', '@caus-stat': 'caus'}, {'@id': 'a#01244410', '@noun-id': 'n#07547805', '@caus-stat': 'stat'}, {'@id': 'a#01137994', '@noun-id': 'n#07517869', '@caus-stat': 'stat'}, {'@id': 'a#00115193', '@noun-id': 'n#07517869', '@caus-stat': 'stat'}, {'@id': 'a#00752555', '@noun-id': 'n#07509131', '@caus-stat': 'caus'}, {'@id': 'a#00154270', '@noun-id': 'n#07509131', '@caus-stat': 'stat'}, {'@id': 'a#00086606', '@noun-id': 'n#07520507', '@caus-stat': 'stat'}, {'@id': 'a#01724072', '@noun-id': 'n#07505676', '@caus-stat': 'stat'}, {'@id': 'a#01342949', '@noun-id': 'n#07505676', '@caus-stat': 'stat'}, {'@id': 'a#00115494', '@noun-id': 'n#07517737', '@caus-stat': 'stat'}, {'@id': 'a#01809245', '@noun-id': 'n#07517417', '@caus-stat': 'caus'}, {'@id': 'a#00114454', '@noun-id': 'n#07517417', '@caus-stat': 'stat'}, {'@id': 'a#02093493', '@noun-id': 'n#07524918', '@caus-stat': 'stat'}, {'@id': 'a#00079262', '@noun-id': 'n#07523760', '@caus-stat': 'stat'}, {'@id': 'a#00252733', '@noun-id': 'n#07523760', '@caus-stat': 'stat'}, {'@id': 'a#00114921', '@noun-id': 'n#07552549', '@caus-stat': 'stat'}, {'@id': 'a#02110447', '@noun-id': 'n#07502576', '@caus-stat': 'stat'}, {'@id': 'a#02464105', '@noun-id': 'n#07550079', '@caus-stat': 'stat'}, {'@id': 'a#00888765', '@noun-id': 'n#07550079', '@caus-stat': 'stat'}, {'@id': 'a#02406370', '@noun-id': 'n#07525760', '@caus-stat': 'stat'}, {'@id': 'a#01367651', '@noun-id': 'n#07529683', '@caus-stat': 'stat'}, {'@id': 'a#01367651', '@noun-id': 'n#07551890', '@caus-stat': 'stat'}, {'@id': 'a#01366718', '@noun-id': 'n#07527352', '@caus-stat': 'stat'}, {'@id': 'a#01367211', '@noun-id': 'n#07527352', '@caus-stat': 'stat'}, {'@id': 'a#01363613', '@noun-id': 'n#07527352', '@caus-stat': 'stat'}, {'@id': 'a#01363613', '@noun-id': 'n#07527352', '@caus-stat': 'caus'}, {'@id': 'a#01373545', '@noun-id': 'n#07553590', '@caus-stat': 'stat'}, {'@id': 'a#00876204', '@noun-id': 'n#07516222', '@caus-stat': 'stat'}, {'@id': 'a#00876204', '@noun-id': 'n#07484109', '@caus-stat': 'stat'}, {'@id': 'a#01461292', '@noun-id': 'n#07497473', '@caus-stat': 'caus'}, {'@id': 'a#00115906', '@noun-id': 'n#07517292', '@caus-stat': 'stat'}, {'@id': 'a#01463965', '@noun-id': 'n#07543288', '@caus-stat': 'stat'}, {'@id': 'a#00224515', '@noun-id': 'n#07550551', '@caus-stat': 'caus'}, {'@id': 'a#00225564', '@noun-id': 'n#07550369', '@caus-stat': 'stat'}, {'@id': 'a#00225564', '@noun-id': 'n#07550666', '@caus-stat': 'stat'}, {'@id': 'a#01362684', '@noun-id': 'n#07533097', '@caus-stat': 'caus'}, {'@id': 'a#01362684', '@noun-id': 'n#07533097', '@caus-stat': 'stat'}, {'@id': 'a#01507134', '@noun-id': 'n#07554500', '@caus-stat': 'stat'}, {'@id': 'a#01138161', '@noun-id': 'n#07546844', '@caus-stat': 'stat'}, {'@id': 'a#01050890', '@noun-id': 'n#07533978', '@caus-stat': 'caus'}, {'@id': 'a#01150205', '@noun-id': 'n#07533978', '@caus-stat': 'stat'}, {'@id': 'a#02464491', '@noun-id': 'n#07547064', '@caus-stat': 'stat'}, {'@id': 'a#01362387', '@noun-id': 'n#07535209', '@caus-stat': 'caus'}, {'@id': 'a#01362387', '@noun-id': 'n#07535209', '@caus-stat': 'stat'}, {'@id': 'a#01366157', '@noun-id': 'n#07535209', '@caus-stat': 'stat'}, {'@id': 'a#02560035', '@noun-id': 'n#07504111', '@caus-stat': 'caus'}, {'@id': 'a#02545689', '@noun-id': 'n#07504111', '@caus-stat': 'stat'}, {'@id': 'a#00788474', '@noun-id': 'n#07538674', '@caus-stat': 'caus'}, {'@id': 'a#00869972', '@noun-id': 'n#07538674', '@caus-stat': 'stat'}, {'@id': 'a#01051718', '@noun-id': 'n#07538674', '@caus-stat': 'stat'}, {'@id': 'a#01663571', '@noun-id': 'n#07541558', '@caus-stat': 'stat'}, {'@id': 'a#00080357', '@noun-id': 'n#07520612', '@caus-stat': 'stat'}, {'@id': 'a#01742119', '@noun-id': 'n#07515790', '@caus-stat': 'stat'}, {'@id': 'a#01362950', '@noun-id': 'n#07533607', '@caus-stat': 'stat'}, {'@id': 'a#02419434', '@noun-id': 'n#07533607', '@caus-stat': 'stat'}, {'@id': 'a#01664581', '@noun-id': 'n#07543033', '@caus-stat': 'stat'}, {'@id': 'a#00302951', '@noun-id': 'n#07515169', '@caus-stat': 'stat'}, {'@id': 'a#01366157', '@noun-id': 'n#07535430', '@caus-stat': 'stat'}, {'@id': 'a#00704898', '@noun-id': 'n#07508486', '@caus-stat': 'stat'}, {'@id': 'a#01889256', '@noun-id': 'n#07508486', '@caus-stat': 'stat'}, {'@id': 'a#00704898', '@noun-id': 'n#07531536', '@caus-stat': 'stat'}, {'@id': 'a#02449177', '@noun-id': 'n#07545303', '@caus-stat': 'caus'}, {'@id': 'a#00704898', '@noun-id': 'n#07529563', '@caus-stat': 'stat'}, {'@id': 'a#01743217', '@noun-id': 'n#07536870', '@caus-stat': 'stat'}, {'@id': 'a#00221934', '@noun-id': 'n#07503987', '@caus-stat': 'caus'}, {'@id': 'a#01625063', '@noun-id': 'n#07503987', '@caus-stat': 'caus'}, {'@id': 'a#00116529', '@noun-id': 'n#07548978', '@caus-stat': 'stat'}, {'@id': 'a#02011810', '@noun-id': 'n#07521039', '@caus-stat': 'stat'}, {'@id': 'a#01366277', '@noun-id': 'n#07532440', '@caus-stat': 'caus'}, {'@id': 'a#01149494', '@noun-id': 'n#07532440', '@caus-stat': 'caus'}, {'@id': 'a#01149494', '@noun-id': 'n#07532440', '@caus-stat': 'stat'}, {'@id': 'a#01361863', '@noun-id': 'n#07532440', '@caus-stat': 'caus'}, {'@id': 'a#01361863', '@noun-id': 'n#07532440', '@caus-stat': 'stat'}, {'@id': 'a#01664455', '@noun-id': 'n#07541760', '@caus-stat': 'stat'}, {'@id': 'a#02081563', '@noun-id': 'n#07531255', '@caus-stat': 'caus'}, {'@id': 'a#01807219', '@noun-id': 'n#07531255', '@caus-stat': 'caus'}, {'@id': 'a#00589344', '@noun-id': 'n#07531255', '@caus-stat': 'stat'}, {'@id': 'a#02078264', '@noun-id': 'n#07531255', '@caus-stat': 'caus'}, {'@id': 'a#02080577', '@noun-id': 'n#07531255', '@caus-stat': 'caus'}, {'@id': 'a#00194924', '@noun-id': 'n#07521437', '@caus-stat': 'caus'}, {'@id': 'a#00079629', '@noun-id': 'n#07521437', '@caus-stat': 'stat'}, {'@id': 'a#00196934', '@noun-id': 'n#07526338', '@caus-stat': 'caus'}, {'@id': 'a#00339599', '@noun-id': 'n#07526338', '@caus-stat': 'stat'}, {'@id': 'a#02101942', '@noun-id': 'n#07514782', '@caus-stat': 'caus'}, {'@id': 'a#02101580', '@noun-id': 'n#07514782', '@caus-stat': 'caus'}, {'@id': 'a#01549964', '@noun-id': 'n#07506569', '@caus-stat': 'caus'}, {'@id': 'a#01227546', '@noun-id': 'n#07506569', '@caus-stat': 'caus'}, {'@id': 'a#00154837', '@noun-id': 'n#07506569', '@caus-stat': 'stat'}, {'@id': 'a#00154583', '@noun-id': 'n#07506569', '@caus-stat': 'stat'}, {'@id': 'a#00153898', '@noun-id': 'n#07506569', '@caus-stat': 'stat'}, {'@id': 'a#00154583', '@noun-id': 'n#07507560', '@caus-stat': 'stat'}, {'@id': 'a#00154837', '@noun-id': 'n#07507560', '@caus-stat': 'stat'}, {'@id': 'a#00162863', '@noun-id': 'n#07523180', '@caus-stat': 'stat'}, {'@id': 'a#00339941', '@noun-id': 'n#07523180', '@caus-stat': 'stat'}, {'@id': 'a#00589448', '@noun-id': 'n#07531998', '@caus-stat': 'stat'}, {'@id': 'a#01158453', '@noun-id': 'n#07505347', '@caus-stat': 'stat'}, {'@id': 'a#00544860', '@noun-id': 'n#07505207', '@caus-stat': 'stat'}, {'@id': 'a#01364817', '@noun-id': 'n#07534430', '@caus-stat': 'stat'}, {'@id': 'a#01364008', '@noun-id': 'n#07534430', '@caus-stat': 'stat'}, {'@id': 'a#01743506', '@noun-id': 'n#07535670', '@caus-stat': 'stat'}, {'@id': 'a#01150475', '@noun-id': 'n#07535670', '@caus-stat': 'stat'}, {'@id': 'a#01283155', '@noun-id': 'n#07510495', '@caus-stat': 'caus'}, {'@id': 'a#00196312', '@noun-id': 'n#07510495', '@caus-stat': 'caus'}, {'@id': 'a#00436645', '@noun-id': 'n#07510495', '@caus-stat': 'stat'}, {'@id': 'a#02358277', '@noun-id': 'n#07510495', '@caus-stat': 'stat'}, {'@id': 'a#01137994', '@noun-id': 'n#07549401', '@caus-stat': 'stat'}, {'@id': 'a#02359464', '@noun-id': 'n#07510348', '@caus-stat': 'caus'}, {'@id': 'a#02357479', '@noun-id': 'n#07510348', '@caus-stat': 'stat'}, {'@id': 'a#01372948', '@noun-id': 'n#07553301', '@caus-stat': 'stat'}, {'@id': 'a#02374914', '@noun-id': 'n#07553301', '@caus-stat': 'stat'}, {'@id': 'a#01464700', '@noun-id': 'n#07554342', '@caus-stat': 'stat'}, {'@id': 'a#02448889', '@noun-id': 'n#07554342', '@caus-stat': 'stat'}, {'@id': 'a#00339941', '@noun-id': 'n#07522729', '@caus-stat': 'stat'}, {'@id': 'a#00251809', '@noun-id': 'n#07522729', '@caus-stat': 'stat'}, {'@id': 'a#00922344', '@noun-id': 'n#07528976', '@caus-stat': 'caus'}, {'@id': 'a#00920603', '@noun-id': 'n#07528976', '@caus-stat': 'stat'}, {'@id': 'a#00529657', '@noun-id': 'n#07515560', '@caus-stat': 'caus'}, {'@id': 'a#00252498', '@noun-id': 'n#07522043', '@caus-stat': 'stat'}, {'@id': 'a#00704898', '@noun-id': 'n#07528097', '@caus-stat': 'stat'}, {'@id': 'a#00115494', '@noun-id': 'n#07517550', '@caus-stat': 'stat'}, {'@id': 'a#00156839', '@noun-id': 'n#07523649', '@caus-stat': 'stat'}, {'@id': 'a#00545015', '@noun-id': 'n#07505538', '@caus-stat': 'stat'}, {'@id': 'a#01246388', '@noun-id': 'n#07502241', '@caus-stat': 'stat'}, {'@id': 'a#01076793', '@noun-id': 'n#07502241', '@caus-stat': 'stat'}, {'@id': 'a#00225099', '@noun-id': 'n#07550891', '@caus-stat': 'stat'}, {'@id': 'a#02533313', '@noun-id': 'n#07546279', '@caus-stat': 'stat'}, {'@id': 'a#01365239', '@noun-id': 'n#07534278', '@caus-stat': 'stat'}, {'@id': 'a#02347086', '@noun-id': 'n#07533877', '@caus-stat': 'caus'}, {'@id': 'a#01366525', '@noun-id': 'n#07533877', '@caus-stat': 'stat'}, {'@id': 'a#01676517', '@noun-id': 'n#07509996', '@caus-stat': 'caus'}, {'@id': 'a#02432682', '@noun-id': 'n#07533735', '@caus-stat': 'stat'}, {'@id': 'a#02012073', '@noun-id': 'n#07501420', '@caus-stat': 'stat'}, {'@id': 'a#00116245', '@noun-id': 'n#07516905', '@caus-stat': 'stat'}]}, 'verb-syn-list': {'verb-syn': [{'@id': 'v#01774426', '@noun-id': 'n#07503430', '@caus-stat': 'stat'}, {'@id': 'v#01827858', '@noun-id': 'n#07500741', '@caus-stat': 'stat'}, {'@id': 'v#01767949', '@noun-id': 'n#07544647', '@caus-stat': 'caus'}, {'@id': 'v#01820901', '@noun-id': 'n#07518878', '@caus-stat': 'caus'}, {'@id': 'v#02585050', '@noun-id': 'n#07513508', '@caus-stat': 'caus'}, {'@id': 'v#00872414', '@noun-id': 'n#07519773', '@caus-stat': 'stat'}, {'@id': 'v#01782650', '@noun-id': 'n#07519773', '@caus-stat': 'caus'}, {'@id': 'v#01823528', '@noun-id': 'n#07502387', '@caus-stat': 'caus'}, {'@id': 'v#01787106', '@noun-id': 'n#07516354', '@caus-stat': 'stat'}, {'@id': 'v#01785971', '@noun-id': 'n#07516354', '@caus-stat': 'caus'}, {'@id': 'v#01787955', '@noun-id': 'n#07518261', '@caus-stat': 'caus'}, {'@id': 'v#01804961', '@noun-id': 'n#07511080', '@caus-stat': 'stat'}, {'@id': 'v#00673983', '@noun-id': 'n#07500159', '@caus-stat': 'stat'}, {'@id': 'v#00724832', '@noun-id': 'n#07509572', '@caus-stat': 'caus'}, {'@id': 'v#01796582', '@noun-id': 'n#07534700', '@caus-stat': 'stat'}, {'@id': 'v#01779644', '@noun-id': 'n#07510184', '@caus-stat': 'caus'}, {'@id': 'v#01764800', '@noun-id': 'n#07514968', '@caus-stat': 'caus'}, {'@id': 'v#01806505', '@noun-id': 'n#07497976', '@caus-stat': 'caus'}, {'@id': 'v#01799794', '@noun-id': 'n#07507742', '@caus-stat': 'caus'}, {'@id': 'v#00858781', '@noun-id': 'n#07530478', '@caus-stat': 'caus'}, {'@id': 'v#00858568', '@noun-id': 'n#07530478', '@caus-stat': 'stat'}, {'@id': 'v#01817938', '@noun-id': 'n#07530478', '@caus-stat': 'caus'}, {'@id': 'v#00859153', '@noun-id': 'n#07530478', '@caus-stat': 'stat'}, {'@id': 'v#00859325', '@noun-id': 'n#07530478', '@caus-stat': 'caus'}, {'@id': 'v#01818972', '@noun-id': 'n#07537259', '@caus-stat': 'caus'}, {'@id': 'v#01814815', '@noun-id': 'n#07530000', '@caus-stat': 'caus'}, {'@id': 'v#01822248', '@noun-id': 'n#07553964', '@caus-stat': 'stat'}, {'@id': 'v#01821996', '@noun-id': 'n#07553741', '@caus-stat': 'stat'}, {'@id': 'v#02678438', '@noun-id': 'n#07524529', '@caus-stat': 'caus'}, {'@id': 'v#02678438', '@noun-id': 'n#07504841', '@caus-stat': 'caus'}, {'@id': 'v#01790739', '@noun-id': 'n#07507912', '@caus-stat': 'caus'}, {'@id': 'v#01774799', '@noun-id': 'n#07502980', '@caus-stat': 'stat'}, {'@id': 'v#01194238', '@noun-id': 'n#07531105', '@caus-stat': 'caus'}, {'@id': 'v#01816844', '@noun-id': 'n#07531105', '@caus-stat': 'caus'}, {'@id': 'v#01827232', '@noun-id': 'n#07549979', '@caus-stat': 'stat'}, {'@id': 'v#02063771', '@noun-id': 'n#07519983', '@caus-stat': 'stat'}, {'@id': 'v#02115430', '@noun-id': 'n#07510625', '@caus-stat': 'caus'}, {'@id': 'v#01108148', '@noun-id': 'n#07542560', '@caus-stat': 'caus'}, {'@id': 'v#01814396', '@noun-id': 'n#07537973', '@caus-stat': 'caus'}, {'@id': 'v#01814396', '@noun-id': 'n#07537485', '@caus-stat': 'caus'}, {'@id': 'v#01810933', '@noun-id': 'n#07541923', '@caus-stat': 'stat'}, {'@id': 'v#01774799', '@noun-id': 'n#07547674', '@caus-stat': 'stat'}, {'@id': 'v#00807178', '@noun-id': 'n#07502829', '@caus-stat': 'stat'}, {'@id': 'v#01790020', '@noun-id': 'n#07508232', '@caus-stat': 'caus'}, {'@id': 'v#01819147', '@noun-id': 'n#07542675', '@caus-stat': 'caus'}, {'@id': 'v#01808374', '@noun-id': 'n#07503260', '@caus-stat': 'caus'}, {'@id': 'v#02194913', '@noun-id': 'n#07503260', '@caus-stat': 'stat'}, {'@id': 'v#00681125', '@noun-id': 'n#07501922', '@caus-stat': 'caus'}, {'@id': 'v#01776727', '@noun-id': 'n#07501545', '@caus-stat': 'stat'}, {'@id': 'v#01817130', '@noun-id': 'n#07540424', '@caus-stat': 'caus'}, {'@id': 'v#02683127', '@noun-id': 'n#07505871', '@caus-stat': 'stat'}, {'@id': 'v#00704249', '@noun-id': 'n#07524242', '@caus-stat': 'stat'}, {'@id': 'v#01767163', '@noun-id': 'n#07524242', '@caus-stat': 'stat'}, {'@id': 'v#01798100', '@noun-id': 'n#07524242', '@caus-stat': 'caus'}, {'@id': 'v#01815185', '@noun-id': 'n#07515974', '@caus-stat': 'caus'}, {'@id': 'v#01811736', '@noun-id': 'n#07527656', '@caus-stat': 'stat'}, {'@id': 'v#01811736', '@noun-id': 'n#07527656', '@caus-stat': 'caus'}, {'@id': 'v#01792097', '@noun-id': 'n#07507098', '@caus-stat': 'caus'}, {'@id': 'v#01818235', '@noun-id': 'n#07541449', '@caus-stat': 'caus'}, {'@id': 'v#01827064', '@noun-id': 'n#07549716', '@caus-stat': 'stat'}, {'@id': 'v#01827619', '@noun-id': 'n#07549716', '@caus-stat': 'stat'}, {'@id': 'v#01812324', '@noun-id': 'n#07528212', '@caus-stat': 'caus'}, {'@id': 'v#00719734', '@noun-id': 'n#07510923', '@caus-stat': 'stat'}, {'@id': 'v#00857923', '@noun-id': 'n#07527817', '@caus-stat': 'stat'}, {'@id': 'v#01813668', '@noun-id': 'n#07527817', '@caus-stat': 'stat'}, {'@id': 'v#00692143', '@noun-id': 'n#07500414', '@caus-stat': 'stat'}, {'@id': 'v#01780434', '@noun-id': 'n#07519253', '@caus-stat': 'stat'}, {'@id': 'v#01780568', '@noun-id': 'n#07519253', '@caus-stat': 'stat'}, {'@id': 'v#01780202', '@noun-id': 'n#07519253', '@caus-stat': 'stat'}, {'@id': 'v#01780729', '@noun-id': 'n#07519253', '@caus-stat': 'stat'}, {'@id': 'v#00903385', '@noun-id': 'n#07554640', '@caus-stat': 'stat'}, {'@id': 'v#01803003', '@noun-id': 'n#07518663', '@caus-stat': 'caus'}, {'@id': 'v#02671880', '@noun-id': 'n#07532112', '@caus-stat': 'caus'}, {'@id': 'v#01786906', '@noun-id': 'n#07516997', '@caus-stat': 'caus'}, {'@id': 'v#01812950', '@noun-id': 'n#07527167', '@caus-stat': 'stat'}, {'@id': 'v#01813499', '@noun-id': 'n#07527167', '@caus-stat': 'caus'}, {'@id': 'v#01797582', '@noun-id': 'n#07535010', '@caus-stat': 'caus'}, {'@id': 'v#01797347', '@noun-id': 'n#07535010', '@caus-stat': 'stat'}, {'@id': 'v#01774005', '@noun-id': 'n#07549536', '@caus-stat': 'stat'}, {'@id': 'v#01789514', '@noun-id': 'n#07519040', '@caus-stat': 'caus'}, {'@id': 'v#01774136', '@noun-id': 'n#07546465', '@caus-stat': 'stat'}, {'@id': 'v#01826723', '@noun-id': 'n#07511733', '@caus-stat': 'stat'}, {'@id': 'v#01811441', '@noun-id': 'n#07541053', '@caus-stat': 'stat'}, {'@id': 'v#01811441', '@noun-id': 'n#07541316', '@caus-stat': 'stat'}, {'@id': 'v#01782650', '@noun-id': 'n#07520411', '@caus-stat': 'caus'}, {'@id': 'v#01782650', '@noun-id': 'n#07520411', '@caus-stat': 'stat'}, {'@id': 'v#01799794', '@noun-id': 'n#07509131', '@caus-stat': 'caus'}, {'@id': 'v#00691944', '@noun-id': 'n#00152018', '@caus-stat': 'stat'}, {'@id': 'v#01786906', '@noun-id': 'n#07517417', '@caus-stat': 'caus'}, {'@id': 'v#01781180', '@noun-id': 'n#07523760', '@caus-stat': 'caus'}, {'@id': 'v#00855295', '@noun-id': 'n#07551890', '@caus-stat': 'caus'}, {'@id': 'v#01813499', '@noun-id': 'n#07527352', '@caus-stat': 'caus'}, {'@id': 'v#01813884', '@noun-id': 'n#07527352', '@caus-stat': 'stat'}, {'@id': 'v#01777210', '@noun-id': 'n#07497473', '@caus-stat': 'stat'}, {'@id': 'v#01776952', '@noun-id': 'n#07497473', '@caus-stat': 'stat'}, {'@id': 'v#01775535', '@noun-id': 'n#07543288', '@caus-stat': 'stat'}, {'@id': 'v#01828736', '@noun-id': 'n#07543288', '@caus-stat': 'stat'}, {'@id': 'v#01775164', '@noun-id': 'n#07543288', '@caus-stat': 'stat'}, {'@id': 'v#02195191', '@noun-id': 'n#07504111', '@caus-stat': 'caus'}, {'@id': 'v#01808374', '@noun-id': 'n#07504111', '@caus-stat': 'caus'}, {'@id': 'v#01789514', '@noun-id': 'n#07538674', '@caus-stat': 'caus'}, {'@id': 'v#01781983', '@noun-id': 'n#07520612', '@caus-stat': 'caus'}, {'@id': 'v#01782218', '@noun-id': 'n#07520612', '@caus-stat': 'stat'}, {'@id': 'v#01789270', '@noun-id': 'n#07518468', '@caus-stat': 'caus'}, {'@id': 'v#00883847', '@noun-id': 'n#07531536', '@caus-stat': 'stat'}, {'@id': 'v#01823370', '@noun-id': 'n#07529563', '@caus-stat': 'stat'}, {'@id': 'v#00857923', '@noun-id': 'n#07529563', '@caus-stat': 'stat'}, {'@id': 'v#01813884', '@noun-id': 'n#07529563', '@caus-stat': 'stat'}, {'@id': 'v#01796582', '@noun-id': 'n#07536870', '@caus-stat': 'stat'}, {'@id': 'v#02194913', '@noun-id': 'n#07503987', '@caus-stat': 'stat'}, {'@id': 'v#01808769', '@noun-id': 'n#07503987', '@caus-stat': 'caus'}, {'@id': 'v#00732394', '@noun-id': 'n#07542433', '@caus-stat': 'stat'}, {'@id': 'v#01778017', '@noun-id': 'n#07521039', '@caus-stat': 'stat'}, {'@id': 'v#01778568', '@noun-id': 'n#07521039', '@caus-stat': 'stat'}, {'@id': 'v#01813053', '@noun-id': 'n#07532440', '@caus-stat': 'caus'}, {'@id': 'v#01816431', '@noun-id': 'n#07531255', '@caus-stat': 'caus'}, {'@id': 'v#01785748', '@noun-id': 'n#07521437', '@caus-stat': 'caus'}, {'@id': 'v#01779165', '@noun-id': 'n#07521437', '@caus-stat': 'caus'}, {'@id': 'v#01019808', '@noun-id': 'n#07526338', '@caus-stat': 'caus'}, {'@id': 'v#01766407', '@noun-id': 'n#07526338', '@caus-stat': 'caus'}, {'@id': 'v#01792287', '@noun-id': 'n#07506569', '@caus-stat': 'caus'}, {'@id': 'v#02508078', '@noun-id': 'n#07506569', '@caus-stat': 'caus'}, {'@id': 'v#01797347', '@noun-id': 'n#07534430', '@caus-stat': 'stat'}, {'@id': 'v#01797347', '@noun-id': 'n#07535670', '@caus-stat': 'stat'}, {'@id': 'v#01770802', '@noun-id': 'n#07514345', '@caus-stat': 'caus'}, {'@id': 'v#01761706', '@noun-id': 'n#07514345', '@caus-stat': 'caus'}, {'@id': 'v#00851239', '@noun-id': 'n#07514345', '@caus-stat': 'caus'}, {'@id': 'v#01761120', '@noun-id': 'n#07514345', '@caus-stat': 'caus'}, {'@id': 'v#00268968', '@noun-id': 'n#07510495', '@caus-stat': 'caus'}, {'@id': 'v#00622384', '@noun-id': 'n#07510495', '@caus-stat': 'caus'}, {'@id': 'v#02115618', '@noun-id': 'n#07510495', '@caus-stat': 'caus'}, {'@id': 'v#02719016', '@noun-id': 'n#07549401', '@caus-stat': 'stat'}, {'@id': 'v#02744061', '@noun-id': 'n#07549401', '@caus-stat': 'stat'}, {'@id': 'v#00725274', '@noun-id': 'n#07510348', '@caus-stat': 'caus'}, {'@id': 'v#01816219', '@noun-id': 'n#07528976', '@caus-stat': 'caus'}, {'@id': 'v#00857923', '@noun-id': 'n#07528097', '@caus-stat': 'stat'}, {'@id': 'v#01823370', '@noun-id': 'n#07528097', '@caus-stat': 'stat'}, {'@id': 'v#00925490', '@noun-id': 'n#07509996', '@caus-stat': 'stat'}]}, 'adv-syn-list': {'adv-syn': [{'@id': 'r#00218886', '@noun-id': 'n#07500741', '@caus-stat': 'caus'}, {'@id': 'r#00262552', '@noun-id': 'n#07499830', '@caus-stat': 'stat'}, {'@id': 'r#00227323', '@noun-id': 'n#07516354', '@caus-stat': 'stat'}, {'@id': 'r#00185970', '@noun-id': 'n#07523905', '@caus-stat': 'stat'}, {'@id': 'r#00185970', '@noun-id': 'n#07524760', '@caus-stat': 'stat'}, {'@id': 'r#00265660', '@noun-id': 'n#07483622', '@caus-stat': 'stat'}, {'@id': 'r#00185970', '@noun-id': 'n#07521674', '@caus-stat': 'stat'}, {'@id': 'r#00217998', '@noun-id': 'n#07534700', '@caus-stat': 'stat'}, {'@id': 'r#00242478', '@noun-id': 'n#07548695', '@caus-stat': 'stat'}, {'@id': 'r#00278366', '@noun-id': 'n#07545833', '@caus-stat': 'caus'}, {'@id': 'r#00394593', '@noun-id': 'n#07545717', '@caus-stat': 'stat'}, {'@id': 'r#00186756', '@noun-id': 'n#07514968', '@caus-stat': 'stat'}, {'@id': 'r#00230749', '@noun-id': 'n#07530478', '@caus-stat': 'caus'}, {'@id': 'r#00230749', '@noun-id': 'n#07530478', '@caus-stat': 'stat'}, {'@id': 'r#00230877', '@noun-id': 'n#07537068', '@caus-stat': 'caus'}, {'@id': 'r#00230877', '@noun-id': 'n#07537068', '@caus-stat': 'stat'}, {'@id': 'r#00409709', '@noun-id': 'n#07530124', '@caus-stat': 'stat'}, {'@id': 'r#00154885', '@noun-id': 'n#07530000', '@caus-stat': 'stat'}, {'@id': 'r#00287749', '@noun-id': 'n#07554758', '@caus-stat': 'stat'}, {'@id': 'r#00294289', '@noun-id': 'n#07507912', '@caus-stat': 'stat'}, {'@id': 'r#00303177', '@noun-id': 'n#07549979', '@caus-stat': 'stat'}, {'@id': 'r#00232499', '@noun-id': 'n#07506382', '@caus-stat': 'stat'}, {'@id': 'r#00082039', '@noun-id': 'n#07510625', '@caus-stat': 'caus'}, {'@id': 'r#00301840', '@noun-id': 'n#07541923', '@caus-stat': 'stat'}, {'@id': 'r#00301840', '@noun-id': 'n#07538395', '@caus-stat': 'stat'}, {'@id': 'r#00309111', '@noun-id': 'n#07523286', '@caus-stat': 'stat'}, {'@id': 'r#00314141', '@noun-id': 'n#07503260', '@caus-stat': 'caus'}, {'@id': 'r#00318001', '@noun-id': 'n#07540424', '@caus-stat': 'caus'}, {'@id': 'r#00496879', '@noun-id': 'n#07524242', '@caus-stat': 'caus'}, {'@id': 'r#00114609', '@noun-id': 'n#07524242', '@caus-stat': 'caus'}, {'@id': 'r#00319931', '@noun-id': 'n#07524242', '@caus-stat': 'stat'}, {'@id': 'r#00321165', '@noun-id': 'n#07532832', '@caus-stat': 'stat'}, {'@id': 'r#00200777', '@noun-id': 'n#07555184', '@caus-stat': 'stat'}, {'@id': 'r#00165018', '@noun-id': 'n#07512315', '@caus-stat': 'stat'}, {'@id': 'r#00147876', '@noun-id': 'n#07515974', '@caus-stat': 'stat'}, {'@id': 'r#00328235', '@noun-id': 'n#07507098', '@caus-stat': 'caus'}, {'@id': 'r#00192153', '@noun-id': 'n#07554856', '@caus-stat': 'stat'}, {'@id': 'r#00328679', '@noun-id': 'n#07541449', '@caus-stat': 'caus'}, {'@id': 'r#00188779', '@noun-id': 'n#07555014', '@caus-stat': 'stat'}, {'@id': 'r#00303177', '@noun-id': 'n#07549716', '@caus-stat': 'stat'}, {'@id': 'r#00003925', '@noun-id': 'n#07549716', '@caus-stat': 'caus'}, {'@id': 'r#00246077', '@noun-id': 'n#07510923', '@caus-stat': 'stat'}, {'@id': 'r#00324589', '@noun-id': 'n#07555647', '@caus-stat': 'stat'}, {'@id': 'r#00335544', '@noun-id': 'n#07555647', '@caus-stat': 'stat'}, {'@id': 'r#00227423', '@noun-id': 'n#07527817', '@caus-stat': 'stat'}, {'@id': 'r#00230444', '@noun-id': 'n#07500414', '@caus-stat': 'stat'}, {'@id': 'r#00199565', '@noun-id': 'n#07519253', '@caus-stat': 'caus'}, {'@id': 'r#00199565', '@noun-id': 'n#07519253', '@caus-stat': 'stat'}, {'@id': 'r#00199687', '@noun-id': 'n#07526182', '@caus-stat': 'stat'}, {'@id': 'r#00141485', '@noun-id': 'n#07511380', '@caus-stat': 'stat'}, {'@id': 'r#00343250', '@noun-id': 'n#07534108', '@caus-stat': 'caus'}, {'@id': 'r#00224280', '@noun-id': 'n#07516997', '@caus-stat': 'stat'}, {'@id': 'r#00348782', '@noun-id': 'n#07532276', '@caus-stat': 'stat'}, {'@id': 'r#00232314', '@noun-id': 'n#07533257', '@caus-stat': 'stat'}, {'@id': 'r#00271264', '@noun-id': 'n#07504529', '@caus-stat': 'stat'}, {'@id': 'r#00271264', '@noun-id': 'n#07504343', '@caus-stat': 'stat'}, {'@id': 'r#00351238', '@noun-id': 'n#07535010', '@caus-stat': 'stat'}, {'@id': 'r#00351238', '@noun-id': 'n#07535010', '@caus-stat': 'caus'}, {'@id': 'r#00050297', '@noun-id': 'n#07526757', '@caus-stat': 'stat'}, {'@id': 'r#00354244', '@noun-id': 'n#07546465', '@caus-stat': 'caus'}, {'@id': 'r#00355158', '@noun-id': 'n#07506149', '@caus-stat': 'stat'}, {'@id': 'r#00146120', '@noun-id': 'n#07523485', '@caus-stat': 'stat'}, {'@id': 'r#00182642', '@noun-id': 'n#07529377', '@caus-stat': 'caus'}, {'@id': 'r#00182642', '@noun-id': 'n#07529377', '@caus-stat': 'stat'}, {'@id': 'r#00200146', '@noun-id': 'n#07511733', '@caus-stat': 'caus'}, {'@id': 'r#00200243', '@noun-id': 'n#07511733', '@caus-stat': 'stat'}, {'@id': 'r#00200146', '@noun-id': 'n#07541053', '@caus-stat': 'caus'}, {'@id': 'r#00200243', '@noun-id': 'n#07541053', '@caus-stat': 'stat'}, {'@id': 'r#00200146', '@noun-id': 'n#07541316', '@caus-stat': 'caus'}, {'@id': 'r#00200243', '@noun-id': 'n#07541316', '@caus-stat': 'stat'}, {'@id': 'r#00317766', '@noun-id': 'n#07542249', '@caus-stat': 'stat'}, {'@id': 'r#00200392', '@noun-id': 'n#07542249', '@caus-stat': 'stat'}, {'@id': 'r#00247459', '@noun-id': 'n#07520411', '@caus-stat': 'caus'}, {'@id': 'r#00056340', '@noun-id': 'n#07520411', '@caus-stat': 'caus'}, {'@id': 'r#00356765', '@noun-id': 'n#07520411', '@caus-stat': 'caus'}, {'@id': 'r#00242478', '@noun-id': 'n#07547805', '@caus-stat': 'stat'}, {'@id': 'r#00359095', '@noun-id': 'n#07517869', '@caus-stat': 'stat'}, {'@id': 'r#00211231', '@noun-id': 'n#07509131', '@caus-stat': 'caus'}, {'@id': 'r#00211231', '@noun-id': 'n#07509131', '@caus-stat': 'stat'}, {'@id': 'r#00360710', '@noun-id': 'n#07520507', '@caus-stat': 'stat'}, {'@id': 'r#00173498', '@noun-id': 'n#07514071', '@caus-stat': 'stat'}, {'@id': 'r#00372322', '@noun-id': 'n#07505676', '@caus-stat': 'stat'}, {'@id': 'r#00372455', '@noun-id': 'n#07517737', '@caus-stat': 'stat'}, {'@id': 'r#00224280', '@noun-id': 'n#07517417', '@caus-stat': 'stat'}, {'@id': 'r#00377684', '@noun-id': 'n#07524918', '@caus-stat': 'stat'}, {'@id': 'r#00303177', '@noun-id': 'n#07550079', '@caus-stat': 'stat'}, {'@id': 'r#00383693', '@noun-id': 'n#07550079', '@caus-stat': 'stat'}, {'@id': 'r#00348450', '@noun-id': 'n#07537376', '@caus-stat': 'caus'}, {'@id': 'r#00348450', '@noun-id': 'n#07537376', '@caus-stat': 'stat'}, {'@id': 'r#00386181', '@noun-id': 'n#07516222', '@caus-stat': 'stat'}, {'@id': 'r#00386181', '@noun-id': 'n#07484109', '@caus-stat': 'stat'}, {'@id': 'r#00392361', '@noun-id': 'n#07517292', '@caus-stat': 'stat'}, {'@id': 'r#00229074', '@noun-id': 'n#07543288', '@caus-stat': 'stat'}, {'@id': 'r#00265298', '@noun-id': 'n#07543288', '@caus-stat': 'caus'}, {'@id': 'r#00394722', '@noun-id': 'n#07550369', '@caus-stat': 'stat'}, {'@id': 'r#00201075', '@noun-id': 'n#07550666', '@caus-stat': 'stat'}, {'@id': 'r#00192866', '@noun-id': 'n#07554500', '@caus-stat': 'stat'}, {'@id': 'r#00404622', '@noun-id': 'n#07535209', '@caus-stat': 'caus'}, {'@id': 'r#00404622', '@noun-id': 'n#07535209', '@caus-stat': 'stat'}, {'@id': 'r#00273306', '@noun-id': 'n#07547547', '@caus-stat': 'stat'}, {'@id': 'r#00414031', '@noun-id': 'n#07538674', '@caus-stat': 'caus'}, {'@id': 'r#00414252', '@noun-id': 'n#07541558', '@caus-stat': 'stat'}, {'@id': 'r#00418712', '@noun-id': 'n#07515790', '@caus-stat': 'stat'}, {'@id': 'r#00419576', '@noun-id': 'n#07533607', '@caus-stat': 'stat'}, {'@id': 'r#00414436', '@noun-id': 'n#07543033', '@caus-stat': 'stat'}, {'@id': 'r#00423243', '@noun-id': 'n#07515169', '@caus-stat': 'stat'}, {'@id': 'r#00425453', '@noun-id': 'n#07535430', '@caus-stat': 'stat'}, {'@id': 'r#00189846', '@noun-id': 'n#07508486', '@caus-stat': 'stat'}, {'@id': 'r#00189846', '@noun-id': 'n#07531536', '@caus-stat': 'stat'}, {'@id': 'r#00211397', '@noun-id': 'n#07545303', '@caus-stat': 'caus'}, {'@id': 'r#00365110', '@noun-id': 'n#07536870', '@caus-stat': 'stat'}, {'@id': 'r#00309632', '@noun-id': 'n#07503987', '@caus-stat': 'caus'}, {'@id': 'r#00441436', '@noun-id': 'n#07548978', '@caus-stat': 'stat'}, {'@id': 'r#00264339', '@noun-id': 'n#07542433', '@caus-stat': 'stat'}, {'@id': 'r#00441740', '@noun-id': 'n#07542433', '@caus-stat': 'stat'}, {'@id': 'r#00443461', '@noun-id': 'n#07521039', '@caus-stat': 'stat'}, {'@id': 'r#00093270', '@noun-id': 'n#07532440', '@caus-stat': 'caus'}, {'@id': 'r#00404501', '@noun-id': 'n#07532440', '@caus-stat': 'stat'}, {'@id': 'r#00183464', '@noun-id': 'n#07531255', '@caus-stat': 'caus'}, {'@id': 'r#00015368', '@noun-id': 'n#07531255', '@caus-stat': 'caus'}, {'@id': 'r#00345791', '@noun-id': 'n#07521437', '@caus-stat': 'caus'}, {'@id': 'r#00439687', '@noun-id': 'n#07526338', '@caus-stat': 'caus'}, {'@id': 'r#00448418', '@noun-id': 'n#07507329', '@caus-stat': 'stat'}, {'@id': 'r#00448858', '@noun-id': 'n#07514782', '@caus-stat': 'caus'}, {'@id': 'r#00313633', '@noun-id': 'n#07506569', '@caus-stat': 'caus'}, {'@id': 'r#00451594', '@noun-id': 'n#07507560', '@caus-stat': 'caus'}, {'@id': 'r#00451594', '@noun-id': 'n#07507560', '@caus-stat': 'stat'}, {'@id': 'r#00460894', '@noun-id': 'n#07505207', '@caus-stat': 'stat'}, {'@id': 'r#00321165', '@noun-id': 'n#07534430', '@caus-stat': 'stat'}, {'@id': 'r#00461755', '@noun-id': 'n#07534430', '@caus-stat': 'stat'}, {'@id': 'r#00321165', '@noun-id': 'n#07535670', '@caus-stat': 'stat'}, {'@id': 'r#00461755', '@noun-id': 'n#07535670', '@caus-stat': 'stat'}, {'@id': 'r#00213301', '@noun-id': 'n#07510348', '@caus-stat': 'caus'}, {'@id': 'r#00145228', '@noun-id': 'n#07510348', '@caus-stat': 'caus'}, {'@id': 'r#00472068', '@noun-id': 'n#07510348', '@caus-stat': 'stat'}, {'@id': 'r#00192153', '@noun-id': 'n#07553301', '@caus-stat': 'stat'}, {'@id': 'r#00475845', '@noun-id': 'n#07554342', '@caus-stat': 'stat'}, {'@id': 'r#00228910', '@noun-id': 'n#07522729', '@caus-stat': 'stat'}, {'@id': 'r#00186904', '@noun-id': 'n#07515560', '@caus-stat': 'stat'}, {'@id': 'r#00478991', '@noun-id': 'n#07522043', '@caus-stat': 'stat'}, {'@id': 'r#00194915', '@noun-id': 'n#07528097', '@caus-stat': 'stat'}, {'@id': 'r#00266647', '@noun-id': 'n#07523649', '@caus-stat': 'stat'}, {'@id': 'r#00485341', '@noun-id': 'n#07505538', '@caus-stat': 'stat'}, {'@id': 'r#00443248', '@noun-id': 'n#07550891', '@caus-stat': 'stat'}, {'@id': 'r#00093270', '@noun-id': 'n#07533877', '@caus-stat': 'stat'}, {'@id': 'r#00093270', '@noun-id': 'n#07533877', '@caus-stat': 'caus'}, {'@id': 'r#00183090', '@noun-id': 'n#07509996', '@caus-stat': 'caus'}, {'@id': 'r#00497298', '@noun-id': 'n#07516905', '@caus-stat': 'stat'}]}}\n"
          ]
        }
      ],
      "source": [
        "syn_data = open(\"/content/drive/My Drive/a-synsets-30.xml\", \"r\", encoding=\"utf-8\")\n",
        "syn_dic = xmltodict.parse(syn_data.read())[\"syn-list\"]\n",
        "syn_data.close()\n",
        "print(syn_dic)"
      ]
    },
    {
      "cell_type": "markdown",
      "metadata": {
        "id": "SmPkgWQK4yzD"
      },
      "source": [
        "Reading the file that contains the hierarchy information of the synsets"
      ]
    },
    {
      "cell_type": "code",
      "execution_count": null,
      "metadata": {
        "colab": {
          "base_uri": "https://localhost:8080/"
        },
        "id": "XcUVlD0a34zx",
        "outputId": "c9ddc05f-c796-4be8-83b6-ec5e551584e2"
      },
      "outputs": [
        {
          "output_type": "stream",
          "name": "stdout",
          "text": [
            "[{'@name': 'root'}, {'@name': 'mental-state', '@isa': 'root'}, {'@name': 'physical-state', '@isa': 'root'}, {'@name': 'behaviour', '@isa': 'root'}, {'@name': 'situation', '@isa': 'root'}, {'@name': 'signal', '@isa': 'root'}, {'@name': 'trait', '@isa': 'root'}, {'@name': 'sensation', '@isa': 'root'}, {'@name': 'cognitive-state', '@isa': 'mental-state'}, {'@name': 'affective-state', '@isa': 'mental-state'}, {'@name': 'cognitive-affective-state', '@isa': 'mental-state'}, {'@name': 'mood', '@isa': 'affective-state'}, {'@name': 'emotion', '@isa': 'affective-state'}, {'@name': 'emotion-eliciting-situation', '@isa': 'situation'}, {'@name': 'edonic-signal', '@isa': 'signal'}, {'@name': 'positive-emotion', '@isa': 'emotion'}, {'@name': 'negative-emotion', '@isa': 'emotion'}, {'@name': 'neutral-emotion', '@isa': 'emotion'}, {'@name': 'ambiguous-emotion', '@isa': 'emotion'}, {'@name': 'joy', '@isa': 'positive-emotion'}, {'@name': 'love', '@isa': 'positive-emotion'}, {'@name': 'affection', '@isa': 'positive-emotion'}, {'@name': 'liking', '@isa': 'positive-emotion'}, {'@name': 'enthusiasm', '@isa': 'positive-emotion'}, {'@name': 'gratitude', '@isa': 'positive-emotion'}, {'@name': 'self-pride', '@isa': 'positive-emotion'}, {'@name': 'levity', '@isa': 'positive-emotion'}, {'@name': 'calmness', '@isa': 'positive-emotion'}, {'@name': 'fearlessness', '@isa': 'positive-emotion'}, {'@name': 'positive-expectation', '@isa': 'positive-emotion'}, {'@name': 'positive-fear', '@isa': 'positive-emotion'}, {'@name': 'positive-hope', '@isa': 'positive-emotion'}, {'@name': 'amusement', '@isa': 'joy'}, {'@name': 'elation', '@isa': 'joy'}, {'@name': 'exultation', '@isa': 'joy'}, {'@name': 'exhilaration', '@isa': 'joy'}, {'@name': 'exuberance', '@isa': 'joy'}, {'@name': 'happiness', '@isa': 'joy'}, {'@name': 'bonheur', '@isa': 'joy'}, {'@name': 'gladness', '@isa': 'joy'}, {'@name': 'merriment', '@isa': 'joy'}, {'@name': 'rejoicing', '@isa': 'joy'}, {'@name': 'belonging', '@isa': 'joy'}, {'@name': 'cheerfulness', '@isa': 'joy'}, {'@name': 'contentment', '@isa': 'joy'}, {'@name': 'euphoria', '@isa': 'elation'}, {'@name': 'triumph', '@isa': 'exultation'}, {'@name': 'bang', '@isa': 'exhilaration'}, {'@name': 'titillation', '@isa': 'exhilaration'}, {'@name': 'hilarity', '@isa': 'merriment'}, {'@name': 'jocundity', '@isa': 'merriment'}, {'@name': 'jollity', '@isa': 'merriment'}, {'@name': 'comfortableness', '@isa': 'belonging'}, {'@name': 'closeness', '@isa': 'belonging'}, {'@name': 'togetherness', '@isa': 'closeness'}, {'@name': 'buoyancy', '@isa': 'cheerfulness'}, {'@name': 'carefreeness', '@isa': 'cheerfulness'}, {'@name': 'satisfaction', '@isa': 'contentment'}, {'@name': 'satisfaction-pride', '@isa': 'satisfaction'}, {'@name': 'complacency', '@isa': 'satisfaction'}, {'@name': 'fulfillment', '@isa': 'satisfaction'}, {'@name': 'gloat', '@isa': 'satisfaction'}, {'@name': 'smugness', '@isa': 'complacency'}, {'@name': 'attachment', '@isa': 'affection'}, {'@name': 'protectiveness', '@isa': 'affection'}, {'@name': 'regard', '@isa': 'affection'}, {'@name': 'soft-spot', '@isa': 'affection'}, {'@name': 'sympathy', '@isa': 'liking'}, {'@name': 'fondness', '@isa': 'liking'}, {'@name': 'captivation', '@isa': 'liking'}, {'@name': 'preference', '@isa': 'liking'}, {'@name': 'friendliness', '@isa': 'liking'}, {'@name': 'approval', '@isa': 'liking'}, {'@name': 'admiration', '@isa': 'liking'}, {'@name': 'positive-concern', '@isa': 'sympathy'}, {'@name': 'kindheartedness', '@isa': 'sympathy'}, {'@name': 'compatibility', '@isa': 'sympathy'}, {'@name': 'empathy', '@isa': 'sympathy'}, {'@name': 'softheartedness', '@isa': 'positive-concern'}, {'@name': 'identification', '@isa': 'empathy'}, {'@name': 'weakness', '@isa': 'preference'}, {'@name': 'amicability', '@isa': 'friendliness'}, {'@name': 'good-will', '@isa': 'friendliness'}, {'@name': 'brotherhood', '@isa': 'friendliness'}, {'@name': 'favor', '@isa': 'approval'}, {'@name': 'hero-worship', '@isa': 'admiration'}, {'@name': 'gusto', '@isa': 'enthusiasm'}, {'@name': 'eagerness', '@isa': 'enthusiasm'}, {'@name': 'exuberance', '@isa': 'enthusiasm'}, {'@name': 'enthusiasm-ardor', '@isa': 'eagerness'}, {'@name': 'worship', '@isa': 'love'}, {'@name': 'love-ardor', '@isa': 'love'}, {'@name': 'amorousness', '@isa': 'love'}, {'@name': 'puppy-love', '@isa': 'love'}, {'@name': 'devotion', '@isa': 'love'}, {'@name': 'benevolence', '@isa': 'love'}, {'@name': 'lovingness', '@isa': 'love'}, {'@name': 'loyalty', '@isa': 'love'}, {'@name': 'beneficence', '@isa': 'benevolence'}, {'@name': 'warmheartedness', '@isa': 'lovingness'}, {'@name': 'gratefulness', '@isa': 'gratitude'}, {'@name': 'self-esteem', '@isa': 'self-pride'}, {'@name': 'ego', '@isa': 'self-pride'}, {'@name': 'amour-propre', '@isa': 'self-pride'}, {'@name': 'playfulness', '@isa': 'levity'}, {'@name': 'placidity', '@isa': 'calmness'}, {'@name': 'coolness', '@isa': 'calmness'}, {'@name': 'tranquillity', '@isa': 'calmness'}, {'@name': 'peace', '@isa': 'tranquillity'}, {'@name': 'easiness', '@isa': 'tranquillity'}, {'@name': 'positive-languor', '@isa': 'easiness'}, {'@name': 'security', '@isa': 'fearlessness'}, {'@name': 'confidence', '@isa': 'security'}, {'@name': 'anticipation', '@isa': 'positive-expectation'}, {'@name': 'positive-suspense', '@isa': 'anticipation'}, {'@name': 'frisson', '@isa': 'positive-fear'}, {'@name': 'hopefulness', '@isa': 'positive-hope'}, {'@name': 'encouragement', '@isa': 'positive-hope'}, {'@name': 'optimism', '@isa': 'positive-hope'}, {'@name': 'sanguinity', '@isa': 'optimism'}, {'@name': 'negative-fear', '@isa': 'negative-emotion'}, {'@name': 'sadness', '@isa': 'negative-emotion'}, {'@name': 'general-dislike', '@isa': 'negative-emotion'}, {'@name': 'ingratitude', '@isa': 'negative-emotion'}, {'@name': 'shame', '@isa': 'negative-emotion'}, {'@name': 'compassion', '@isa': 'negative-emotion'}, {'@name': 'humility', '@isa': 'negative-emotion'}, {'@name': 'despair', '@isa': 'negative-emotion'}, {'@name': 'anxiety', '@isa': 'negative-emotion'}, {'@name': 'daze', '@isa': 'negative-emotion'}, {'@name': 'alarm', '@isa': 'negative-fear'}, {'@name': 'creeps', '@isa': 'negative-fear'}, {'@name': 'horror', '@isa': 'negative-fear'}, {'@name': 'hysteria', '@isa': 'negative-fear'}, {'@name': 'panic', '@isa': 'negative-fear'}, {'@name': 'scare', '@isa': 'negative-fear'}, {'@name': 'stage-fright', '@isa': 'negative-fear'}, {'@name': 'apprehension', '@isa': 'negative-fear'}, {'@name': 'timidity', '@isa': 'negative-fear'}, {'@name': 'fear-intimidation', '@isa': 'negative-fear'}, {'@name': 'negative-unconcern', '@isa': 'negative-fear'}, {'@name': 'trepidation', '@isa': 'apprehension'}, {'@name': 'foreboding', '@isa': 'apprehension'}, {'@name': 'negative-suspense', '@isa': 'apprehension'}, {'@name': 'chill', '@isa': 'apprehension'}, {'@name': 'shadow', '@isa': 'foreboding'}, {'@name': 'presage', '@isa': 'foreboding'}, {'@name': 'shyness', '@isa': 'timidity'}, {'@name': 'diffidence', '@isa': 'timidity'}, {'@name': 'hesitance', '@isa': 'diffidence'}, {'@name': 'unassertiveness', '@isa': 'diffidence'}, {'@name': 'heartlessness', '@isa': 'negative-unconcern'}, {'@name': 'cruelty', '@isa': 'heartlessness'}, {'@name': 'dolefulness', '@isa': 'sadness'}, {'@name': 'melancholy', '@isa': 'sadness'}, {'@name': 'misery', '@isa': 'sadness'}, {'@name': 'forlornness', '@isa': 'sadness'}, {'@name': 'weepiness', '@isa': 'sadness'}, {'@name': 'sorrow', '@isa': 'sadness'}, {'@name': 'cheerlessness', '@isa': 'sadness'}, {'@name': 'depression', '@isa': 'sadness'}, {'@name': 'downheartedness', '@isa': 'sadness'}, {'@name': 'gloom', '@isa': 'melancholy'}, {'@name': 'heavyheartedness', '@isa': 'melancholy'}, {'@name': 'world-weariness', '@isa': 'melancholy'}, {'@name': 'lost-sorrow', '@isa': 'sorrow'}, {'@name': 'regret-sorrow', '@isa': 'sorrow'}, {'@name': 'grief', '@isa': 'lost-sorrow'}, {'@name': 'mournfulness', '@isa': 'lost-sorrow'}, {'@name': 'self-pity', '@isa': 'lost-sorrow'}, {'@name': 'dolor', '@isa': 'grief'}, {'@name': 'woe', '@isa': 'mournfulness'}, {'@name': 'plaintiveness', '@isa': 'mournfulness'}, {'@name': 'attrition', '@isa': 'regret-sorrow'}, {'@name': 'compunction', '@isa': 'regret-sorrow'}, {'@name': 'guilt', '@isa': 'compunction'}, {'@name': 'repentance', '@isa': 'compunction'}, {'@name': 'joylessness', '@isa': 'cheerlessness'}, {'@name': 'demoralization', '@isa': 'depression'}, {'@name': 'helplessness', '@isa': 'depression'}, {'@name': 'despondency', '@isa': 'depression'}, {'@name': 'oppression', '@isa': 'depression'}, {'@name': 'dysphoria', '@isa': 'depression'}, {'@name': 'blue-devils', '@isa': 'despondency'}, {'@name': 'weight', '@isa': 'oppression'}, {'@name': 'anger', '@isa': 'general-dislike'}, {'@name': 'hate', '@isa': 'general-dislike'}, {'@name': 'dislike', '@isa': 'general-dislike'}, {'@name': 'fury', '@isa': 'anger'}, {'@name': 'infuriation', '@isa': 'anger'}, {'@name': 'umbrage', '@isa': 'anger'}, {'@name': 'indignation', '@isa': 'anger'}, {'@name': 'huffiness', '@isa': 'anger'}, {'@name': 'dander', '@isa': 'anger'}, {'@name': 'bad-temper', '@isa': 'anger'}, {'@name': 'annoyance', '@isa': 'anger'}, {'@name': 'wrath', '@isa': 'fury'}, {'@name': 'lividity', '@isa': 'fury'}, {'@name': 'dudgeon', '@isa': 'indignation'}, {'@name': 'irascibility', '@isa': 'bad-temper'}, {'@name': 'fit', '@isa': 'bad-temper'}, {'@name': 'pique', '@isa': 'annoyance'}, {'@name': 'frustration', '@isa': 'annoyance'}, {'@name': 'aggravation', '@isa': 'annoyance'}, {'@name': 'harassment', '@isa': 'annoyance'}, {'@name': 'displeasure', '@isa': 'annoyance'}, {'@name': 'abhorrence', '@isa': 'hate'}, {'@name': 'misanthropy', '@isa': 'hate'}, {'@name': 'misogamy', '@isa': 'hate'}, {'@name': 'misogyny', '@isa': 'hate'}, {'@name': 'misology', '@isa': 'hate'}, {'@name': 'misoneism', '@isa': 'hate'}, {'@name': 'misopedia', '@isa': 'hate'}, {'@name': 'murderousness', '@isa': 'hate'}, {'@name': 'despisal', '@isa': 'hate'}, {'@name': 'hostility', '@isa': 'hate'}, {'@name': 'malevolence', '@isa': 'hate'}, {'@name': 'misocainea', '@isa': 'misoneism'}, {'@name': 'animosity', '@isa': 'hostility'}, {'@name': 'class-feeling', '@isa': 'hostility'}, {'@name': 'antagonism', '@isa': 'hostility'}, {'@name': 'aggression', '@isa': 'hostility'}, {'@name': 'belligerence', '@isa': 'hostility'}, {'@name': 'resentment', '@isa': 'hostility'}, {'@name': 'warpath', '@isa': 'belligerence'}, {'@name': 'heartburning', '@isa': 'resentment'}, {'@name': 'sulkiness', '@isa': 'resentment'}, {'@name': 'grudge', '@isa': 'resentment'}, {'@name': 'envy', '@isa': 'resentment'}, {'@name': 'covetousness', '@isa': 'envy'}, {'@name': 'jealousy', '@isa': 'envy'}, {'@name': 'maleficence', '@isa': 'malevolence'}, {'@name': 'malice', '@isa': 'malevolence'}, {'@name': 'vindictiveness', '@isa': 'malevolence'}, {'@name': 'disinclination', '@isa': 'dislike'}, {'@name': 'unfriendliness', '@isa': 'dislike'}, {'@name': 'alienation', '@isa': 'dislike'}, {'@name': 'antipathy', '@isa': 'dislike'}, {'@name': 'disapproval', '@isa': 'dislike'}, {'@name': 'contempt', '@isa': 'dislike'}, {'@name': 'disgust', '@isa': 'dislike'}, {'@name': 'isolation', '@isa': 'alienation'}, {'@name': 'repugnance', '@isa': 'disgust'}, {'@name': 'nausea', '@isa': 'disgust'}, {'@name': 'conscience', '@isa': 'shame'}, {'@name': 'self-disgust', '@isa': 'shame'}, {'@name': 'embarrassment', '@isa': 'shame'}, {'@name': 'self-consciousness', '@isa': 'embarrassment'}, {'@name': 'shamefacedness', '@isa': 'embarrassment'}, {'@name': 'chagrin', '@isa': 'embarrassment'}, {'@name': 'confusion', '@isa': 'embarrassment'}, {'@name': 'abashment', '@isa': 'embarrassment'}, {'@name': 'discomfiture', '@isa': 'embarrassment'}, {'@name': 'commiseration', '@isa': 'compassion'}, {'@name': 'tenderness', '@isa': 'compassion'}, {'@name': 'mercifulness', '@isa': 'compassion'}, {'@name': 'forgiveness', '@isa': 'mercifulness'}, {'@name': 'self-depreciation', '@isa': 'humility'}, {'@name': 'meekness', '@isa': 'humility'}, {'@name': 'hopelessness', '@isa': 'despair'}, {'@name': 'resignation', '@isa': 'despair'}, {'@name': 'discouragement', '@isa': 'despair'}, {'@name': 'pessimism', '@isa': 'despair'}, {'@name': 'defeatism', '@isa': 'resignation'}, {'@name': 'despair-intimidation', '@isa': 'discouragement'}, {'@name': 'cynicism', '@isa': 'pessimism'}, {'@name': 'discomfiture', '@isa': 'anxiety'}, {'@name': 'negative-agitation', '@isa': 'anxiety'}, {'@name': 'distress', '@isa': 'anxiety'}, {'@name': 'negative-concern', '@isa': 'anxiety'}, {'@name': 'anxiousness', '@isa': 'anxiety'}, {'@name': 'insecurity', '@isa': 'anxiety'}, {'@name': 'edginess', '@isa': 'anxiety'}, {'@name': 'sinking', '@isa': 'anxiety'}, {'@name': 'scruple', '@isa': 'anxiety'}, {'@name': 'jitteriness', '@isa': 'anxiety'}, {'@name': 'angst', '@isa': 'anxiety'}, {'@name': 'anxiousness', '@isa': 'anxiety'}, {'@name': 'solicitude', '@isa': 'anxiety'}, {'@name': 'fidget', '@isa': 'negative-agitation'}, {'@name': 'stewing', '@isa': 'negative-agitation'}, {'@name': 'tumult', '@isa': 'negative-agitation'}, {'@name': 'impatience', '@isa': 'fidget'}, {'@name': 'apathy', '@isa': 'neutral-emotion'}, {'@name': 'neutral-unconcern', '@isa': 'neutral-emotion'}, {'@name': 'emotionlessness', '@isa': 'apathy'}, {'@name': 'neutral-languor', '@isa': 'apathy'}, {'@name': 'indifference', '@isa': 'neutral-unconcern'}, {'@name': 'distance', '@isa': 'indifference'}, {'@name': 'withdrawal', '@isa': 'indifference'}, {'@name': 'thing', '@isa': 'ambiguous-emotion'}, {'@name': 'gravity', '@isa': 'ambiguous-emotion'}, {'@name': 'surprise', '@isa': 'ambiguous-emotion'}, {'@name': 'ambiguous-agitation', '@isa': 'ambiguous-emotion'}, {'@name': 'ambiguous-fear', '@isa': 'ambiguous-emotion'}, {'@name': 'pensiveness', '@isa': 'ambiguous-emotion'}, {'@name': 'ambiguous-expectation', '@isa': 'ambiguous-emotion'}, {'@name': 'earnestness', '@isa': 'gravity'}, {'@name': 'astonishment', '@isa': 'surprise'}, {'@name': 'wonder', '@isa': 'astonishment'}, {'@name': 'surprise', '@isa': 'astonishment'}, {'@name': 'stupefaction', '@isa': 'astonishment'}, {'@name': 'awe', '@isa': 'wonder'}, {'@name': 'unrest', '@isa': 'ambiguous-agitation'}, {'@name': 'stir', '@isa': 'ambiguous-agitation'}, {'@name': 'tumult', '@isa': 'ambiguous-agitation'}, {'@name': 'electricity', '@isa': 'stir'}, {'@name': 'sensation', '@isa': 'stir'}, {'@name': 'reverence', '@isa': 'ambiguous-fear'}, {'@name': 'ambiguous-hope', '@isa': 'ambiguous-expectation'}, {'@name': 'fever', '@isa': 'ambiguous-expectation'}, {'@name': 'buck-fever', '@isa': 'fever'}]\n"
          ]
        }
      ],
      "source": [
        "hierarchy_data = open(\"/content/drive/My Drive/a-hierarchy.xml\", \"r\", encoding=\"utf-8\")\n",
        "hierarchy_dic = xmltodict.parse(hierarchy_data.read())[\"categ-list\"][\"categ\"]\n",
        "hierarchy_data.close()\n",
        "print(hierarchy_dic)"
      ]
    },
    {
      "cell_type": "markdown",
      "metadata": {
        "id": "3ErPpwj6Ku8-"
      },
      "source": [
        "A function that takes a hierarchy dictionary and a category to be mapped to the higher category and goes through the all categories in the dictionary to find the higher category and returns the higher category name. In case that it does not find any higher category, it just returns the initial category."
      ]
    },
    {
      "cell_type": "code",
      "execution_count": null,
      "metadata": {
        "id": "VYa6lk776FNG"
      },
      "outputs": [],
      "source": [
        "def cat_map(hier_d, categ):\n",
        "  i = 0\n",
        "  while hier_d[i]['@name'] != categ and i < (len(hier_d)-1):\n",
        "    i += 1\n",
        "  if i == len(hier_d):\n",
        "    return categ\n",
        "  else:\n",
        "    if hier_d[i]['@isa'] not in ['positive-emotion', 'negative-emotion', 'neutral-emotion', 'ambiguous-emotion']:\n",
        "      return hier_d[i]['@isa']\n",
        "    else:\n",
        "      return categ"
      ]
    },
    {
      "cell_type": "markdown",
      "metadata": {
        "id": "ZAYFbUrfLOHd"
      },
      "source": [
        "A function that takes a dictionary of the categories and the items, and maps them to the higher category unless their category is already positive, negative, neutral and ambiguous emotion. It returns the manipulated dictionary."
      ]
    },
    {
      "cell_type": "code",
      "execution_count": null,
      "metadata": {
        "id": "1155-ZSP4P_o"
      },
      "outputs": [],
      "source": [
        "def hier_map_noun(s_d):\n",
        "  change = False\n",
        "  for n in s_d:\n",
        "    if n['@categ'] not in ['positive-emotion', 'negative-emotion', 'neutral-emotion', 'ambiguous-emotion']:\n",
        "      if n['@categ'] != cat_map(hierarchy_dic[1:], n['@categ']):\n",
        "        n['@categ'] = cat_map(hierarchy_dic[1:], n['@categ'])\n",
        "        change = True\n",
        "  return s_d, change"
      ]
    },
    {
      "cell_type": "markdown",
      "metadata": {
        "id": "HsEp62RuLf9h"
      },
      "source": [
        "A code that maps the categories to the higher one until all of them are mapped and no changes can be done."
      ]
    },
    {
      "cell_type": "code",
      "execution_count": null,
      "metadata": {
        "colab": {
          "base_uri": "https://localhost:8080/"
        },
        "id": "kCtgvrdB-2va",
        "outputId": "8693e28e-0df2-4ea1-b63b-40a07a426883"
      },
      "outputs": [
        {
          "output_type": "stream",
          "name": "stdout",
          "text": [
            "1\n",
            "2\n",
            "3\n",
            "4\n",
            "5\n",
            "6\n",
            "[{'@id': 'n#07516905', '@categ': 'general-dislike'}, {'@id': 'n#07501420', '@categ': 'love'}, {'@id': 'n#07533735', '@categ': 'sadness'}, {'@id': 'n#07509996', '@categ': 'surprise'}, {'@id': 'n#07533877', '@categ': 'sadness'}, {'@id': 'n#07506031', '@categ': 'neutral-unconcern'}, {'@id': 'n#07538812', '@categ': 'sadness'}, {'@id': 'n#07534278', '@categ': 'sadness'}, {'@id': 'n#07498614', '@categ': 'liking'}, {'@id': 'n#07548860', '@categ': 'general-dislike'}, {'@id': 'n#07546279', '@categ': 'love'}, {'@id': 'n#07550891', '@categ': 'general-dislike'}, {'@id': 'n#07513711', '@categ': 'ambiguous-agitation'}, {'@id': 'n#07502241', '@categ': 'general-dislike'}, {'@id': 'n#07505538', '@categ': 'neutral-unconcern'}, {'@id': 'n#07523649', '@categ': 'negative-fear'}, {'@id': 'n#07517550', '@categ': 'general-dislike'}, {'@id': 'n#07514520', '@categ': 'anxiety'}, {'@id': 'n#07528097', '@categ': 'joy'}, {'@id': 'n#07522043', '@categ': 'negative-fear'}, {'@id': 'n#07515560', '@categ': 'calmness'}, {'@id': 'n#07530322', '@categ': 'joy'}, {'@id': 'n#07528976', '@categ': 'joy'}, {'@id': 'n#07522729', '@categ': 'negative-fear'}, {'@id': 'n#07480356', '@categ': 'thing'}, {'@id': 'n#07554342', '@categ': 'compassion'}, {'@id': 'n#07553301', '@categ': 'liking'}, {'@id': 'n#07511238', '@categ': 'positive-expectation'}, {'@id': 'n#07522632', '@categ': 'negative-fear'}, {'@id': 'n#07510348', '@categ': 'surprise'}, {'@id': 'n#07549401', '@categ': 'general-dislike'}, {'@id': 'n#07510495', '@categ': 'surprise'}, {'@id': 'n#07514345', '@categ': 'ambiguous-agitation'}, {'@id': 'n#07514189', '@categ': 'anxiety'}, {'@id': 'n#07521563', '@categ': 'negative-fear'}, {'@id': 'n#07535670', '@categ': 'sadness'}, {'@id': 'n#07534430', '@categ': 'sadness'}, {'@id': 'n#07505207', '@categ': 'anxiety'}, {'@id': 'n#07505347', '@categ': 'liking'}, {'@id': 'n#07545594', '@categ': 'affection'}, {'@id': 'n#07531998', '@categ': 'joy'}, {'@id': 'n#07525367', '@categ': 'anxiety'}, {'@id': 'n#07523180', '@categ': 'negative-fear'}, {'@id': 'n#07507560', '@categ': 'shame'}, {'@id': 'n#07506569', '@categ': 'shame'}, {'@id': 'n#07522418', '@categ': 'negative-fear'}, {'@id': 'n#07514782', '@categ': 'ambiguous-expectation'}, {'@id': 'n#07538272', '@categ': 'sadness'}, {'@id': 'n#07508705', '@categ': 'self-pride'}, {'@id': 'n#07506962', '@categ': 'shame'}, {'@id': 'n#07509474', '@categ': 'humility'}, {'@id': 'n#07507329', '@categ': 'shame'}, {'@id': 'n#07526338', '@categ': 'fearlessness'}, {'@id': 'n#07525555', '@categ': 'anxiety'}, {'@id': 'n#07521437', '@categ': 'negative-fear'}, {'@id': 'n#07531255', '@categ': 'joy'}, {'@id': 'n#07541760', '@categ': 'positive-hope'}, {'@id': 'n#07532440', '@categ': 'sadness'}, {'@id': 'n#07521039', '@categ': 'ambiguous-fear'}, {'@id': 'n#07542433', '@categ': 'despair'}, {'@id': 'n#07548978', '@categ': 'general-dislike'}, {'@id': 'n#07503987', '@categ': 'general-dislike'}, {'@id': 'n#07536870', '@categ': 'sadness'}, {'@id': 'n#07529563', '@categ': 'joy'}, {'@id': 'n#07545415', '@categ': 'affection'}, {'@id': 'n#07544351', '@categ': 'love'}, {'@id': 'n#07545303', '@categ': 'affection'}, {'@id': 'n#07531536', '@categ': 'joy'}, {'@id': 'n#07508486', '@categ': 'ambiguous-expectation'}, {'@id': 'n#07522536', '@categ': 'negative-fear'}, {'@id': 'n#07498210', '@categ': 'liking'}, {'@id': 'n#07535430', '@categ': 'sadness'}, {'@id': 'n#07515169', '@categ': 'calmness'}, {'@id': 'n#07518468', '@categ': 'general-dislike'}, {'@id': 'n#07543033', '@categ': 'despair'}, {'@id': 'n#07533607', '@categ': 'pensiveness'}, {'@id': 'n#07515790', '@categ': 'calmness'}, {'@id': 'n#07520612', '@categ': 'negative-fear'}, {'@id': 'n#07541558', '@categ': 'positive-hope'}, {'@id': 'n#07538674', '@categ': 'sadness'}, {'@id': 'n#07504111', '@categ': 'general-dislike'}, {'@id': 'n#07547547', '@categ': 'general-dislike'}, {'@id': 'n#07535209', '@categ': 'sadness'}, {'@id': 'n#07547473', '@categ': 'general-dislike'}, {'@id': 'n#07547293', '@categ': 'general-dislike'}, {'@id': 'n#07547219', '@categ': 'general-dislike'}, {'@id': 'n#07547064', '@categ': 'general-dislike'}, {'@id': 'n#07546973', '@categ': 'general-dislike'}, {'@id': 'n#07547397', '@categ': 'general-dislike'}, {'@id': 'n#07533978', '@categ': 'sadness'}, {'@id': 'n#07546844', '@categ': 'general-dislike'}, {'@id': 'n#07554500', '@categ': 'compassion'}, {'@id': 'n#07533097', '@categ': 'sadness'}, {'@id': 'n#07509325', '@categ': 'humility'}, {'@id': 'n#07550666', '@categ': 'general-dislike'}, {'@id': 'n#07550369', '@categ': 'general-dislike'}, {'@id': 'n#07550551', '@categ': 'general-dislike'}, {'@id': 'n#07546389', '@categ': 'love'}, {'@id': 'n#07546125', '@categ': 'love'}, {'@id': 'n#07543288', '@categ': 'love'}, {'@id': 'n#07517292', '@categ': 'general-dislike'}, {'@id': 'n#07497473', '@categ': 'liking'}, {'@id': 'n#07511906', '@categ': 'levity'}, {'@id': 'n#07484109', '@categ': 'apathy'}, {'@id': 'n#07516222', '@categ': 'calmness'}, {'@id': 'n#07553590', '@categ': 'liking'}, {'@id': 'n#07537376', '@categ': 'sadness'}, {'@id': 'n#07527352', '@categ': 'joy'}, {'@id': 'n#07551890', '@categ': 'joy'}, {'@id': 'n#07529683', '@categ': 'joy'}, {'@id': 'n#07525760', '@categ': 'anxiety'}, {'@id': 'n#07550079', '@categ': 'general-dislike'}, {'@id': 'n#07502576', '@categ': 'general-dislike'}, {'@id': 'n#07552549', '@categ': 'general-dislike'}, {'@id': 'n#07523760', '@categ': 'negative-fear'}, {'@id': 'n#07542881', '@categ': 'despair'}, {'@id': 'n#07524918', '@categ': 'anxiety'}, {'@id': 'n#07504711', '@categ': 'ingratitude'}, {'@id': 'n#07517417', '@categ': 'general-dislike'}, {'@id': 'n#07517737', '@categ': 'general-dislike'}, {'@id': 'n#07505676', '@categ': 'neutral-unconcern'}, {'@id': 'n#07514071', '@categ': 'anxiety'}, {'@id': 'n#00152018', '@categ': 'liking'}, {'@id': 'n#07520507', '@categ': 'negative-fear'}, {'@id': 'n#07509131', '@categ': 'humility'}, {'@id': 'n#07517869', '@categ': 'general-dislike'}, {'@id': 'n#07547805', '@categ': 'general-dislike'}, {'@id': 'n#07520411', '@categ': 'negative-fear'}, {'@id': 'n#07542249', '@categ': 'despair'}, {'@id': 'n#07541316', '@categ': 'positive-hope'}, {'@id': 'n#07541053', '@categ': 'positive-hope'}, {'@id': 'n#07511733', '@categ': 'ambiguous-expectation'}, {'@id': 'n#07529377', '@categ': 'joy'}, {'@id': 'n#07523485', '@categ': 'negative-fear'}, {'@id': 'n#07501093', '@categ': 'liking'}, {'@id': 'n#07538142', '@categ': 'sadness'}, {'@id': 'n#07533492', '@categ': 'sadness'}, {'@id': 'n#07506149', '@categ': 'negative-fear'}, {'@id': 'n#07549265', '@categ': 'general-dislike'}, {'@id': 'n#07546465', '@categ': 'general-dislike'}, {'@id': 'n#07519040', '@categ': 'general-dislike'}, {'@id': 'n#07526757', '@categ': 'joy'}, {'@id': 'n#07491981', '@categ': 'enthusiasm'}, {'@id': 'n#07536245', '@categ': 'sadness'}, {'@id': 'n#07549536', '@categ': 'general-dislike'}, {'@id': 'n#07535010', '@categ': 'sadness'}, {'@id': 'n#07512147', '@categ': 'gravity'}, {'@id': 'n#07504343', '@categ': 'gratitude'}, {'@id': 'n#07504529', '@categ': 'gratitude'}, {'@id': 'n#07499930', '@categ': 'liking'}, {'@id': 'n#07533257', '@categ': 'sadness'}, {'@id': 'n#07532276', '@categ': 'joy'}, {'@id': 'n#07527167', '@categ': 'joy'}, {'@id': 'n#07512039', '@categ': 'ambiguous-expectation'}, {'@id': 'n#07529245', '@categ': 'ambiguous-expectation'}, {'@id': 'n#07516997', '@categ': 'general-dislike'}, {'@id': 'n#07532112', '@categ': 'joy'}, {'@id': 'n#07518663', '@categ': 'general-dislike'}, {'@id': 'n#07520112', '@categ': 'positive-fear'}, {'@id': 'n#07499615', '@categ': 'liking'}, {'@id': 'n#07534108', '@categ': 'sadness'}, {'@id': 'n#07554640', '@categ': 'compassion'}, {'@id': 'n#07522128', '@categ': 'negative-fear'}, {'@id': 'n#07497797', '@categ': 'liking'}, {'@id': 'n#14406303', '@categ': 'general-dislike'}, {'@id': 'n#07513795', '@categ': 'anxiety'}, {'@id': 'n#07511380', '@categ': 'ambiguous-expectation'}, {'@id': 'n#07526182', '@categ': 'fearlessness'}, {'@id': 'n#07519253', '@categ': 'negative-fear'}, {'@id': 'n#07500414', '@categ': 'liking'}, {'@id': 'n#07527817', '@categ': 'joy'}, {'@id': 'n#07555647', '@categ': 'joy'}, {'@id': 'n#07510923', '@categ': 'ambiguous-expectation'}, {'@id': 'n#07528212', '@categ': 'joy'}, {'@id': 'n#07529096', '@categ': 'joy'}, {'@id': 'n#07549716', '@categ': 'general-dislike'}, {'@id': 'n#07555014', '@categ': 'enthusiasm'}, {'@id': 'n#07541449', '@categ': 'positive-hope'}, {'@id': 'n#07554856', '@categ': 'liking'}, {'@id': 'n#07483782', '@categ': 'apathy'}, {'@id': 'n#07507098', '@categ': 'shame'}, {'@id': 'n#07514600', '@categ': 'ambiguous-agitation'}, {'@id': 'n#07527656', '@categ': 'joy'}, {'@id': 'n#07508806', '@categ': 'self-pride'}, {'@id': 'n#07525057', '@categ': 'anxiety'}, {'@id': 'n#07515974', '@categ': 'calmness'}, {'@id': 'n#07512315', '@categ': 'gravity'}, {'@id': 'n#07555184', '@categ': 'enthusiasm'}, {'@id': 'n#07539367', '@categ': 'sadness'}, {'@id': 'n#07516756', '@categ': 'general-dislike'}, {'@id': 'n#07537668', '@categ': 'sadness'}, {'@id': 'n#07535532', '@categ': 'sadness'}, {'@id': 'n#07532832', '@categ': 'sadness'}, {'@id': 'n#07524242', '@categ': 'anxiety'}, {'@id': 'n#07505871', '@categ': 'neutral-unconcern'}, {'@id': 'n#07540424', '@categ': 'general-dislike'}, {'@id': 'n#07501545', '@categ': 'general-dislike'}, {'@id': 'n#07501922', '@categ': 'general-dislike'}, {'@id': 'n#07503260', '@categ': 'general-dislike'}, {'@id': 'n#07542675', '@categ': 'despair'}, {'@id': 'n#07508232', '@categ': 'shame'}, {'@id': 'n#07502829', '@categ': 'general-dislike'}, {'@id': 'n#07523286', '@categ': 'negative-fear'}, {'@id': 'n#07544491', '@categ': 'love'}, {'@id': 'n#07538395', '@categ': 'sadness'}, {'@id': 'n#07547674', '@categ': 'general-dislike'}, {'@id': 'n#07541923', '@categ': 'despair'}, {'@id': 'n#07537485', '@categ': 'sadness'}, {'@id': 'n#07537973', '@categ': 'sadness'}, {'@id': 'n#07542560', '@categ': 'despair'}, {'@id': 'n#07510625', '@categ': 'daze'}, {'@id': 'n#07518000', '@categ': 'general-dislike'}, {'@id': 'n#07543204', '@categ': 'despair'}, {'@id': 'n#07506382', '@categ': 'negative-fear'}, {'@id': 'n#07519983', '@categ': 'negative-fear'}, {'@id': 'n#07549979', '@categ': 'general-dislike'}, {'@id': 'n#07515328', '@categ': 'calmness'}, {'@id': 'n#07531105', '@categ': 'joy'}, {'@id': 'n#07502980', '@categ': 'general-dislike'}, {'@id': 'n#07506797', '@categ': 'shame'}, {'@id': 'n#07507912', '@categ': 'shame'}, {'@id': 'n#07526505', '@categ': 'fearlessness'}, {'@id': 'n#07504841', '@categ': 'liking'}, {'@id': 'n#07524529', '@categ': 'anxiety'}, {'@id': 'n#07536074', '@categ': 'sadness'}, {'@id': 'n#07531713', '@categ': 'joy'}, {'@id': 'n#07554758', '@categ': 'liking'}, {'@id': 'n#07553741', '@categ': 'compassion'}, {'@id': 'n#07553964', '@categ': 'compassion'}, {'@id': 'n#07530000', '@categ': 'joy'}, {'@id': 'n#07530124', '@categ': 'joy'}, {'@id': 'n#07548224', '@categ': 'general-dislike'}, {'@id': 'n#07537259', '@categ': 'negative-fear'}, {'@id': 'n#07537068', '@categ': 'sadness'}, {'@id': 'n#07530478', '@categ': 'joy'}, {'@id': 'n#07507742', '@categ': 'shame'}, {'@id': 'n#07530866', '@categ': 'joy'}, {'@id': 'n#07497976', '@categ': 'liking'}, {'@id': 'n#07514968', '@categ': 'calmness'}, {'@id': 'n#07530723', '@categ': 'joy'}, {'@id': 'n#07511524', '@categ': 'ambiguous-expectation'}, {'@id': 'n#07500042', '@categ': 'liking'}, {'@id': 'n#07527061', '@categ': 'joy'}, {'@id': 'n#14404460', '@categ': 'sadness'}, {'@id': 'n#07545717', '@categ': 'love'}, {'@id': 'n#07545833', '@categ': 'love'}, {'@id': 'n#07529817', '@categ': 'joy'}, {'@id': 'n#07548695', '@categ': 'general-dislike'}, {'@id': 'n#07528470', '@categ': 'joy'}, {'@id': 'n#07518132', '@categ': 'general-dislike'}, {'@id': 'n#07510184', '@categ': 'surprise'}, {'@id': 'n#07534700', '@categ': 'sadness'}, {'@id': 'n#07545161', '@categ': 'affection'}, {'@id': 'n#07509572', '@categ': 'surprise'}, {'@id': 'n#07544129', '@categ': 'love'}, {'@id': 'n#07555402', '@categ': 'enthusiasm'}, {'@id': 'n#07500159', '@categ': 'liking'}, {'@id': 'n#07521674', '@categ': 'negative-fear'}, {'@id': 'n#07483622', '@categ': 'apathy'}, {'@id': 'n#07524760', '@categ': 'anxiety'}, {'@id': 'n#07523905', '@categ': 'anxiety'}, {'@id': 'n#07502669', '@categ': 'general-dislike'}, {'@id': 'n#07511080', '@categ': 'positive-expectation'}, {'@id': 'n#07548366', '@categ': 'general-dislike'}, {'@id': 'n#07518261', '@categ': 'general-dislike'}, {'@id': 'n#07548100', '@categ': 'general-dislike'}, {'@id': 'n#07516354', '@categ': 'general-dislike'}, {'@id': 'n#07508996', '@categ': 'self-pride'}, {'@id': 'n#07544213', '@categ': 'love'}, {'@id': 'n#07499830', '@categ': 'liking'}, {'@id': 'n#07502387', '@categ': 'general-dislike'}, {'@id': 'n#07519773', '@categ': 'negative-fear'}, {'@id': 'n#07513508', '@categ': 'ambiguous-agitation'}, {'@id': 'n#07548567', '@categ': 'general-dislike'}, {'@id': 'n#07518878', '@categ': 'general-dislike'}, {'@id': 'n#07544647', '@categ': 'affection'}, {'@id': 'n#07500741', '@categ': 'liking'}, {'@id': 'n#07503430', '@categ': 'general-dislike'}, {'@id': 'n#07508092', '@categ': 'shame'}, {'@id': 'n#07526002', '@categ': 'anxiety'}]\n"
          ]
        }
      ],
      "source": [
        "c = True\n",
        "i = 0\n",
        "while c:\n",
        "  i += 1\n",
        "  m_dic = hier_map_noun(syn_dic['noun-syn-list']['noun-syn'])\n",
        "  syn_dic['noun-syn-list']['noun-syn'] = m_dic[0]\n",
        "  c = m_dic[1]\n",
        "  print(i)\n",
        "print(syn_dic['noun-syn-list']['noun-syn'])"
      ]
    },
    {
      "cell_type": "markdown",
      "metadata": {
        "id": "b4o7_hAJZZts"
      },
      "source": [
        "Reading the datasets from all the languages and merging them in the same DataFrame based on their id numbers to form an aligned dataset across languages. It also puts the words with the same id number in the same row for each language."
      ]
    },
    {
      "cell_type": "code",
      "execution_count": null,
      "metadata": {
        "colab": {
          "base_uri": "https://localhost:8080/"
        },
        "id": "IiMA_zgXTcJr",
        "outputId": "d8653e40-fbed-44bc-ab5d-2006b2354014"
      },
      "outputs": [
        {
          "output_type": "stream",
          "name": "stdout",
          "text": [
            "wn-data-eng.tab\n",
            "wn-data-fin.tab\n",
            "wn-data-jpn.tab\n",
            "wn-data-slv.tab\n",
            "wn-data-spa.tab\n",
            "wn-data-tha.tab\n",
            "wn-data-zsm.tab\n"
          ]
        }
      ],
      "source": [
        "directory = '/content/drive/MyDrive/WordNet_data'\n",
        "multilingual = pd.DataFrame()\n",
        "for filename in sorted(os.listdir(directory)):\n",
        "  if 'tab' == filename[-3:]:\n",
        "    print(filename)\n",
        "    with open(os.path.join(directory, filename), 'r', encoding='utf-8') as f:\n",
        "      next(f)\n",
        "      c_n = 'word_'+(filename[8:-4])\n",
        "      names = ['id','lemma', c_n]\n",
        "      data = pd.read_csv(f, sep='\\t', names=names, on_bad_lines='skip')\n",
        "      if data[data.lemma == (filename[8:-4]) + ':lemma'].empty:\n",
        "        data = data[data.lemma == 'lemma']\n",
        "      else:\n",
        "        data = data[data.lemma == (filename[8:-4]) + ':lemma']\n",
        "      data = data.iloc[:,[0,2]]\n",
        "      d = data.fillna('')\n",
        "      df = d[['id', c_n]].groupby('id').agg(lambda x: ','.join(x.unique()))\n",
        "      if multilingual.empty:\n",
        "        multilingual = df\n",
        "      else:\n",
        "        multilingual = multilingual.merge(df, on='id', how='left')\n",
        "multilingual = multilingual.dropna()"
      ]
    },
    {
      "cell_type": "code",
      "source": [
        "print(multilingual)"
      ],
      "metadata": {
        "colab": {
          "base_uri": "https://localhost:8080/"
        },
        "id": "8C8xChVbrz_T",
        "outputId": "eeccc7f7-23cf-4382-d673-48faca5d8f45"
      },
      "execution_count": null,
      "outputs": [
        {
          "output_type": "stream",
          "name": "stdout",
          "text": [
            "                                                word_eng  \\\n",
            "id                                                         \n",
            "00001740-a                                          able   \n",
            "00001740-n                                        entity   \n",
            "00002137-n                   abstraction,abstract entity   \n",
            "00002621-r            barely,hardly,just,scarcely,scarce   \n",
            "00002684-n                        object,physical object   \n",
            "...                                                  ...   \n",
            "13376012-n  credit card,charge card,charge plate,plastic   \n",
            "13381145-n                          deposit,bank deposit   \n",
            "13381734-n                       check,bank check,cheque   \n",
            "13384164-n                                       pension   \n",
            "13384557-n                                         money   \n",
            "\n",
            "                                                     word_fin  \\\n",
            "id                                                              \n",
            "00001740-a                           kykenevä,pystyvä,taitava   \n",
            "00001740-n                             entiteetti,kokonaisuus   \n",
            "00002137-n  abstrahointi,käsitteellistäminen,abstrakti ent...   \n",
            "00002621-r  hädin tuskin,juuri ja juuri,nipin napin,vaivoi...   \n",
            "00002684-n                               esine,fyysinen esine   \n",
            "...                                                       ...   \n",
            "13376012-n             luottokortti,maksuaikakortti,muoviraha   \n",
            "13381145-n                            talletus,pankkitalletus   \n",
            "13381734-n                                              sekki   \n",
            "13384164-n                                              eläke   \n",
            "13384557-n                                               raha   \n",
            "\n",
            "                                                     word_jpn  \\\n",
            "id                                                              \n",
            "00001740-a                                                 可能   \n",
            "00001740-n                                                 実体   \n",
            "00002137-n                                              抽象的実体   \n",
            "00002621-r                                         ついさっき,丁度,今   \n",
            "00002684-n                                               もの,物   \n",
            "...                                                       ...   \n",
            "13376012-n                       クレディットカード,プラスチックマネー,クレジットカード   \n",
            "13381145-n                                            銀行預金,預金   \n",
            "13381734-n                                          小切手,預金小切手   \n",
            "13384164-n                                         年金,恩給,退職年金   \n",
            "13384557-n  ちゃんころ,おあし,ゲルト,マネー,ゲル,丸,丸物,先だつもの,先立つ物,御足,御金,御銭,...   \n",
            "\n",
            "                                   word_slv  \\\n",
            "id                                            \n",
            "00001740-a                  sposoben,zmožen   \n",
            "00001740-n                         entiteta   \n",
            "00002137-n                      abstrakcija   \n",
            "00002621-r                      komaj,težko   \n",
            "00002684-n                          predmet   \n",
            "...                                     ...   \n",
            "13376012-n                         plastika   \n",
            "13381145-n       bančna vloga,depozit,vloga   \n",
            "13381734-n                              ček   \n",
            "13384164-n  letni dohodek,penzija,pokojnina   \n",
            "13384557-n                            denar   \n",
            "\n",
            "                                              word_spa  \\\n",
            "id                                                       \n",
            "00001740-a                       apto,capaz,competente   \n",
            "00001740-n                                ente,entidad   \n",
            "00002137-n                                 abstracción   \n",
            "00002621-r                                      apenas   \n",
            "00002684-n  cosa,objeto,objeto físico,objeto inanimado   \n",
            "...                                                ...   \n",
            "13376012-n                          tarjeta de crédito   \n",
            "13381145-n          depósito,depósito bancario,ingreso   \n",
            "13381734-n                                cheque,talón   \n",
            "13384164-n              jubilación,juro,pensión,retiro   \n",
            "13384557-n                               dinero,divisa   \n",
            "\n",
            "                                       word_tha  \\\n",
            "id                                                \n",
            "00001740-a                               สามารถ   \n",
            "00001740-n                            เอกลักษณ์   \n",
            "00002137-n           นามธรรม,สิ่งที่เป็นนามธรรม   \n",
            "00002621-r                             แทบจะไม่   \n",
            "00002684-n                            ของ,วัตถุ   \n",
            "...                                         ...   \n",
            "13376012-n  บัตรเครดิส,บัตรสินเชื่อ,เครดิตการ์ด   \n",
            "13381145-n                        เงินฝากธนาคาร   \n",
            "13381734-n                                 เช็ค   \n",
            "13384164-n           บำนาญ,เบี้ยบำนาญ,เงินบำนาญ   \n",
            "13384557-n                         เงิน,ตัวเงิน   \n",
            "\n",
            "                                                     word_zsm  \n",
            "id                                                             \n",
            "00001740-a          berdaya,keahlian,layak,mahir,berkebolehan  \n",
            "00001740-n  hakikat,keberadaan,kewujudan,sesuatu,tablet,en...  \n",
            "00002137-n                  abstraksi,pengasingan,peniskalaan  \n",
            "00002621-r                   cuma,hanya,memang,sedang,sungguh  \n",
            "00002684-n                                 barang,benda,objek  \n",
            "...                                                       ...  \n",
            "13376012-n                                         kad kredit  \n",
            "13381145-n                                   deposit,simpanan  \n",
            "13381734-n                                                cek  \n",
            "13384164-n                                     pensiun,pencen  \n",
            "13384557-n                                          duit,wang  \n",
            "\n",
            "[8298 rows x 7 columns]\n"
          ]
        }
      ]
    },
    {
      "cell_type": "code",
      "source": [
        "print(multilingual.sample())"
      ],
      "metadata": {
        "colab": {
          "base_uri": "https://localhost:8080/"
        },
        "id": "eU_gicy1nSKQ",
        "outputId": "6b56102d-d87f-4cc7-81d4-4ef9ffa7d99b"
      },
      "execution_count": null,
      "outputs": [
        {
          "output_type": "stream",
          "name": "stdout",
          "text": [
            "                                                word_eng  \\\n",
            "id                                                         \n",
            "10841405-n  Beethoven,van Beethoven,Ludwig van Beethoven   \n",
            "\n",
            "                                                word_fin            word_jpn  \\\n",
            "id                                                                             \n",
            "10841405-n  Beethoven,van Beethoven,Ludwig van Beethoven  ルートヴィヒ・ヴァン・ベートーヴェン   \n",
            "\n",
            "                        word_slv                        word_spa  \\\n",
            "id                                                                 \n",
            "10841405-n  Ludwig van Beethoven  Beethoven,Ludwig van Beethoven   \n",
            "\n",
            "                                          word_tha   word_zsm  \n",
            "id                                                             \n",
            "10841405-n  บีโธเฟน,ฟาน เบโธเฟน,ลุดวิก ฟาน เบโธเฟน  Beethoven  \n"
          ]
        }
      ]
    },
    {
      "cell_type": "markdown",
      "source": [
        "A function that gets dictionaries of different word types (i.e., adjectives, nouns, etc.) and map them to their emotional categories according to their ids. For the word types other than nouns, this procedure is completed according to their noun ids."
      ],
      "metadata": {
        "id": "93-dMMVtVbHw"
      }
    },
    {
      "cell_type": "code",
      "execution_count": null,
      "metadata": {
        "id": "jGz_WCqGTslB"
      },
      "outputs": [],
      "source": [
        "def cat_assign(d, noun=True):\n",
        "  c_d = []\n",
        "  for c in d:\n",
        "    l = []\n",
        "    id = c['@id'][2:] + '-' + c['@id'][0]\n",
        "    l.append(id)\n",
        "    if not noun:\n",
        "      n_id = c['@noun-id'][2:] + '-n'\n",
        "      categ = np.nan\n",
        "      for n in n_l:\n",
        "        if n_id == n[0]:\n",
        "          categ = n[1]\n",
        "      l.append(categ)\n",
        "    else:\n",
        "      l.append(c['@categ'])\n",
        "    c_d.append(l)\n",
        "  return c_d"
      ]
    },
    {
      "cell_type": "code",
      "execution_count": null,
      "metadata": {
        "id": "gHG-PpfaWvtd",
        "colab": {
          "base_uri": "https://localhost:8080/"
        },
        "outputId": "9123dea0-c1ba-402f-a074-9215b8c68c4d"
      },
      "outputs": [
        {
          "output_type": "stream",
          "name": "stdout",
          "text": [
            "[{'@id': 'a#01737241', '@noun-id': 'n#07514071', '@caus-stat': 'stat'}, {'@id': 'a#00811536', '@noun-id': 'n#07514071', '@caus-stat': 'stat'}, {'@id': 'a#01626562', '@noun-id': 'n#07503987', '@caus-stat': 'caus'}, {'@id': 'a#00480965', '@noun-id': 'n#07507329', '@caus-stat': 'stat'}, {'@id': 'a#01632314', '@noun-id': 'n#07509474', '@caus-stat': 'stat'}, {'@id': 'a#00154163', '@noun-id': 'n#07506569', '@caus-stat': 'stat'}, {'@id': 'a#02405805', '@noun-id': 'n#07522632', '@caus-stat': 'caus'}, {'@id': 'a#02405805', '@noun-id': 'n#07511238', '@caus-stat': 'caus'}, {'@id': 'a#01807605', '@noun-id': 'n#07500741', '@caus-stat': 'caus'}, {'@id': 'a#00904290', '@noun-id': 'n#07500741', '@caus-stat': 'caus'}, {'@id': 'a#00854255', '@noun-id': 'n#07544647', '@caus-stat': 'caus'}, {'@id': 'a#00114266', '@noun-id': 'n#07518878', '@caus-stat': 'stat'}, {'@id': 'a#00085264', '@noun-id': 'n#07513508', '@caus-stat': 'stat'}, {'@id': 'a#00078851', '@noun-id': 'n#07519773', '@caus-stat': 'stat'}, {'@id': 'a#01463326', '@noun-id': 'n#07502387', '@caus-stat': 'stat'}, {'@id': 'a#01683908', '@noun-id': 'n#07502387', '@caus-stat': 'stat'}, {'@id': 'a#01246579', '@noun-id': 'n#07499830', '@caus-stat': 'stat'}, {'@id': 'a#01465214', '@noun-id': 'n#07544213', '@caus-stat': 'caus'}, {'@id': 'a#01465061', '@noun-id': 'n#07544213', '@caus-stat': 'stat'}, {'@id': 'a#00113818', '@noun-id': 'n#07516354', '@caus-stat': 'stat'}, {'@id': 'a#00114454', '@noun-id': 'n#07516354', '@caus-stat': 'caus'}, {'@id': 'a#00089550', '@noun-id': 'n#07518261', '@caus-stat': 'caus'}, {'@id': 'a#02455845', '@noun-id': 'n#07518261', '@caus-stat': 'stat'}, {'@id': 'a#01806106', '@noun-id': 'n#07518261', '@caus-stat': 'stat'}, {'@id': 'a#01293396', '@noun-id': 'n#07502669', '@caus-stat': 'stat'}, {'@id': 'a#02456157', '@noun-id': 'n#07523905', '@caus-stat': 'caus'}, {'@id': 'a#00822907', '@noun-id': 'n#07523905', '@caus-stat': 'stat'}, {'@id': 'a#02456157', '@noun-id': 'n#07524760', '@caus-stat': 'caus'}, {'@id': 'a#00822907', '@noun-id': 'n#07524760', '@caus-stat': 'stat'}, {'@id': 'a#02281611', '@noun-id': 'n#07483622', '@caus-stat': 'stat'}, {'@id': 'a#00079069', '@noun-id': 'n#07521674', '@caus-stat': 'stat'}, {'@id': 'a#00822907', '@noun-id': 'n#07521674', '@caus-stat': 'stat'}, {'@id': 'a#00996089', '@noun-id': 'n#07500159', '@caus-stat': 'stat'}, {'@id': 'a#00179035', '@noun-id': 'n#07500159', '@caus-stat': 'caus'}, {'@id': 'a#01283155', '@noun-id': 'n#07509572', '@caus-stat': 'caus'}, {'@id': 'a#02359789', '@noun-id': 'n#07509572', '@caus-stat': 'caus'}, {'@id': 'a#02357810', '@noun-id': 'n#07509572', '@caus-stat': 'stat'}, {'@id': 'a#02014715', '@noun-id': 'n#07510184', '@caus-stat': 'stat'}, {'@id': 'a#02012157', '@noun-id': 'n#07510184', '@caus-stat': 'stat'}, {'@id': 'a#01244846', '@noun-id': 'n#07548695', '@caus-stat': 'stat'}, {'@id': 'a#00223802', '@noun-id': 'n#07545833', '@caus-stat': 'caus'}, {'@id': 'a#00208052', '@noun-id': 'n#07545833', '@caus-stat': 'stat'}, {'@id': 'a#00224031', '@noun-id': 'n#07545833', '@caus-stat': 'caus'}, {'@id': 'a#01372948', '@noun-id': 'n#07545717', '@caus-stat': 'stat'}, {'@id': 'a#00291471', '@noun-id': 'n#07500042', '@caus-stat': 'stat'}, {'@id': 'a#00197151', '@noun-id': 'n#07514968', '@caus-stat': 'caus'}, {'@id': 'a#00529657', '@noun-id': 'n#07514968', '@caus-stat': 'stat'}, {'@id': 'a#00865620', '@noun-id': 'n#07497976', '@caus-stat': 'stat'}, {'@id': 'a#01465583', '@noun-id': 'n#07497976', '@caus-stat': 'stat'}, {'@id': 'a#00166753', '@noun-id': 'n#07497976', '@caus-stat': 'caus'}, {'@id': 'a#02459465', '@noun-id': 'n#07530866', '@caus-stat': 'stat'}, {'@id': 'a#00531628', '@noun-id': 'n#07507742', '@caus-stat': 'stat'}, {'@id': 'a#00362467', '@noun-id': 'n#07530478', '@caus-stat': 'caus'}, {'@id': 'a#00362467', '@noun-id': 'n#07530478', '@caus-stat': 'stat'}, {'@id': 'a#00364479', '@noun-id': 'n#07537068', '@caus-stat': 'caus'}, {'@id': 'a#00364479', '@noun-id': 'n#07537068', '@caus-stat': 'stat'}, {'@id': 'a#00194924', '@noun-id': 'n#07537259', '@caus-stat': 'caus'}, {'@id': 'a#00451510', '@noun-id': 'n#07530124', '@caus-stat': 'stat'}, {'@id': 'a#00479330', '@noun-id': 'n#07530000', '@caus-stat': 'caus'}, {'@id': 'a#02072923', '@noun-id': 'n#07554758', '@caus-stat': 'stat'}, {'@id': 'a#00589067', '@noun-id': 'n#07531713', '@caus-stat': 'stat'}, {'@id': 'a#00543603', '@noun-id': 'n#07524529', '@caus-stat': 'caus'}, {'@id': 'a#00337172', '@noun-id': 'n#07526505', '@caus-stat': 'stat'}, {'@id': 'a#01685706', '@noun-id': 'n#07507912', '@caus-stat': 'caus'}, {'@id': 'a#01669246', '@noun-id': 'n#07507912', '@caus-stat': 'stat'}, {'@id': 'a#00588797', '@noun-id': 'n#07531105', '@caus-stat': 'stat'}, {'@id': 'a#01148283', '@noun-id': 'n#07531105', '@caus-stat': 'stat'}, {'@id': 'a#00887317', '@noun-id': 'n#07515328', '@caus-stat': 'stat'}, {'@id': 'a#02531422', '@noun-id': 'n#07515328', '@caus-stat': 'stat'}, {'@id': 'a#00029933', '@noun-id': 'n#07549979', '@caus-stat': 'stat'}, {'@id': 'a#00888765', '@noun-id': 'n#07549979', '@caus-stat': 'stat'}, {'@id': 'a#01373728', '@noun-id': 'n#07506382', '@caus-stat': 'stat'}, {'@id': 'a#02463582', '@noun-id': 'n#07543204', '@caus-stat': 'stat'}, {'@id': 'a#01283787', '@noun-id': 'n#07510625', '@caus-stat': 'caus'}, {'@id': 'a#00436645', '@noun-id': 'n#07510625', '@caus-stat': 'stat'}, {'@id': 'a#02333976', '@noun-id': 'n#07542560', '@caus-stat': 'stat'}, {'@id': 'a#00867615', '@noun-id': 'n#07537973', '@caus-stat': 'caus'}, {'@id': 'a#01664880', '@noun-id': 'n#07537973', '@caus-stat': 'stat'}, {'@id': 'a#00703615', '@noun-id': 'n#07537485', '@caus-stat': 'stat'}, {'@id': 'a#00364479', '@noun-id': 'n#07537485', '@caus-stat': 'caus'}, {'@id': 'a#01229826', '@noun-id': 'n#07541923', '@caus-stat': 'stat'}, {'@id': 'a#01230153', '@noun-id': 'n#07538395', '@caus-stat': 'stat'}, {'@id': 'a#00519668', '@noun-id': 'n#07544491', '@caus-stat': 'stat'}, {'@id': 'a#01987856', '@noun-id': 'n#07523286', '@caus-stat': 'stat'}, {'@id': 'a#01771381', '@noun-id': 'n#07502829', '@caus-stat': 'stat'}, {'@id': 'a#00997298', '@noun-id': 'n#07502829', '@caus-stat': 'stat'}, {'@id': 'a#00531628', '@noun-id': 'n#07508232', '@caus-stat': 'stat'}, {'@id': 'a#00867213', '@noun-id': 'n#07542675', '@caus-stat': 'caus'}, {'@id': 'a#01992418', '@noun-id': 'n#07542675', '@caus-stat': 'stat'}, {'@id': 'a#01664880', '@noun-id': 'n#07542675', '@caus-stat': 'stat'}, {'@id': 'a#01625893', '@noun-id': 'n#07503260', '@caus-stat': 'caus'}, {'@id': 'a#01806677', '@noun-id': 'n#07503260', '@caus-stat': 'stat'}, {'@id': 'a#01293158', '@noun-id': 'n#07501922', '@caus-stat': 'stat'}, {'@id': 'a#01461597', '@noun-id': 'n#07501545', '@caus-stat': 'caus'}, {'@id': 'a#01808822', '@noun-id': 'n#07540424', '@caus-stat': 'caus'}, {'@id': 'a#01805889', '@noun-id': 'n#07540424', '@caus-stat': 'stat'}, {'@id': 'a#00544231', '@noun-id': 'n#07524242', '@caus-stat': 'stat'}, {'@id': 'a#01189386', '@noun-id': 'n#07524242', '@caus-stat': 'caus'}, {'@id': 'a#02457167', '@noun-id': 'n#07524242', '@caus-stat': 'stat'}, {'@id': 'a#00909363', '@noun-id': 'n#07524242', '@caus-stat': 'stat'}, {'@id': 'a#01362387', '@noun-id': 'n#07532832', '@caus-stat': 'caus'}, {'@id': 'a#01362387', '@noun-id': 'n#07532832', '@caus-stat': 'stat'}, {'@id': 'a#00703615', '@noun-id': 'n#07537668', '@caus-stat': 'stat'}, {'@id': 'a#00909363', '@noun-id': 'n#07539367', '@caus-stat': 'stat'}, {'@id': 'a#00886253', '@noun-id': 'n#07555184', '@caus-stat': 'stat'}, {'@id': 'a#02179968', '@noun-id': 'n#07512315', '@caus-stat': 'stat'}, {'@id': 'a#00822115', '@noun-id': 'n#07515974', '@caus-stat': 'stat'}, {'@id': 'a#02406370', '@noun-id': 'n#07525057', '@caus-stat': 'stat'}, {'@id': 'a#01367211', '@noun-id': 'n#07527656', '@caus-stat': 'stat'}, {'@id': 'a#00704609', '@noun-id': 'n#07527656', '@caus-stat': 'stat'}, {'@id': 'a#00921538', '@noun-id': 'n#07527656', '@caus-stat': 'caus'}, {'@id': 'a#00921866', '@noun-id': 'n#07514600', '@caus-stat': 'caus'}, {'@id': 'a#00746047', '@noun-id': 'n#07507098', '@caus-stat': 'caus'}, {'@id': 'a#01803335', '@noun-id': 'n#07507098', '@caus-stat': 'caus'}, {'@id': 'a#00154270', '@noun-id': 'n#07507098', '@caus-stat': 'stat'}, {'@id': 'a#01257990', '@noun-id': 'n#07483782', '@caus-stat': 'stat'}, {'@id': 'a#02375639', '@noun-id': 'n#07554856', '@caus-stat': 'stat'}, {'@id': 'a#00866471', '@noun-id': 'n#07541449', '@caus-stat': 'caus'}, {'@id': 'a#01805489', '@noun-id': 'n#07541449', '@caus-stat': 'stat'}, {'@id': 'a#00921014', '@noun-id': 'n#07555014', '@caus-stat': 'caus'}, {'@id': 'a#00885695', '@noun-id': 'n#07555014', '@caus-stat': 'stat'}, {'@id': 'a#00733541', '@noun-id': 'n#07549716', '@caus-stat': 'caus'}, {'@id': 'a#00888765', '@noun-id': 'n#07549716', '@caus-stat': 'stat'}, {'@id': 'a#02566299', '@noun-id': 'n#07549716', '@caus-stat': 'stat'}, {'@id': 'a#00909118', '@noun-id': 'n#07529096', '@caus-stat': 'caus'}, {'@id': 'a#00908929', '@noun-id': 'n#07529096', '@caus-stat': 'stat'}, {'@id': 'a#00705336', '@noun-id': 'n#07528212', '@caus-stat': 'stat'}, {'@id': 'a#01357342', '@noun-id': 'n#07528212', '@caus-stat': 'caus'}, {'@id': 'a#01228797', '@noun-id': 'n#07510923', '@caus-stat': 'stat'}, {'@id': 'a#00704898', '@noun-id': 'n#07527817', '@caus-stat': 'stat'}, {'@id': 'a#00995775', '@noun-id': 'n#07500414', '@caus-stat': 'stat'}, {'@id': 'a#00079485', '@noun-id': 'n#07519253', '@caus-stat': 'stat'}, {'@id': 'a#01127147', '@noun-id': 'n#07519253', '@caus-stat': 'caus'}, {'@id': 'a#00193799', '@noun-id': 'n#07519253', '@caus-stat': 'caus'}, {'@id': 'a#00077645', '@noun-id': 'n#07519253', '@caus-stat': 'stat'}, {'@id': 'a#00250119', '@noun-id': 'n#07526182', '@caus-stat': 'stat'}, {'@id': 'a#00081671', '@noun-id': 'n#07526182', '@caus-stat': 'stat'}, {'@id': 'a#00086210', '@noun-id': 'n#07511380', '@caus-stat': 'stat'}, {'@id': 'a#00920167', '@noun-id': 'n#07511380', '@caus-stat': 'stat'}, {'@id': 'a#02406166', '@noun-id': 'n#07513795', '@caus-stat': 'stat'}, {'@id': 'a#01464700', '@noun-id': 'n#07497797', '@caus-stat': 'stat'}, {'@id': 'a#01721197', '@noun-id': 'n#07554640', '@caus-stat': 'caus'}, {'@id': 'a#01230387', '@noun-id': 'n#07534108', '@caus-stat': 'stat'}, {'@id': 'a#01246801', '@noun-id': 'n#07499615', '@caus-stat': 'stat'}, {'@id': 'a#00867758', '@noun-id': 'n#07518663', '@caus-stat': 'caus'}, {'@id': 'a#01992418', '@noun-id': 'n#07518663', '@caus-stat': 'stat'}, {'@id': 'a#01809245', '@noun-id': 'n#07516997', '@caus-stat': 'caus'}, {'@id': 'a#00114454', '@noun-id': 'n#07516997', '@caus-stat': 'stat'}, {'@id': 'a#01367431', '@noun-id': 'n#07529245', '@caus-stat': 'caus'}, {'@id': 'a#01367651', '@noun-id': 'n#07529245', '@caus-stat': 'stat'}, {'@id': 'a#00363938', '@noun-id': 'n#07529245', '@caus-stat': 'caus'}, {'@id': 'a#01367431', '@noun-id': 'n#07512039', '@caus-stat': 'caus'}, {'@id': 'a#01367651', '@noun-id': 'n#07512039', '@caus-stat': 'stat'}, {'@id': 'a#00363938', '@noun-id': 'n#07512039', '@caus-stat': 'caus'}, {'@id': 'a#01361705', '@noun-id': 'n#07527167', '@caus-stat': 'stat'}, {'@id': 'a#00362892', '@noun-id': 'n#07527167', '@caus-stat': 'caus'}, {'@id': 'a#00362892', '@noun-id': 'n#07527167', '@caus-stat': 'stat'}, {'@id': 'a#01146920', '@noun-id': 'n#07527167', '@caus-stat': 'stat'}, {'@id': 'a#01361414', '@noun-id': 'n#07527167', '@caus-stat': 'caus'}, {'@id': 'a#01361414', '@noun-id': 'n#07527167', '@caus-stat': 'stat'}, {'@id': 'a#00364881', '@noun-id': 'n#07533257', '@caus-stat': 'caus'}, {'@id': 'a#00704270', '@noun-id': 'n#07533257', '@caus-stat': 'stat'}, {'@id': 'a#01137378', '@noun-id': 'n#07533257', '@caus-stat': 'stat'}, {'@id': 'a#00364479', '@noun-id': 'n#07533257', '@caus-stat': 'caus'}, {'@id': 'a#00364881', '@noun-id': 'n#07533257', '@caus-stat': 'caus'}, {'@id': 'a#00703615', '@noun-id': 'n#07533257', '@caus-stat': 'stat'}, {'@id': 'a#00275764', '@noun-id': 'n#07533257', '@caus-stat': 'caus'}, {'@id': 'a#01146493', '@noun-id': 'n#07504529', '@caus-stat': 'stat'}, {'@id': 'a#01146493', '@noun-id': 'n#07504343', '@caus-stat': 'stat'}, {'@id': 'a#01365544', '@noun-id': 'n#07535010', '@caus-stat': 'stat'}, {'@id': 'a#01365544', '@noun-id': 'n#07535010', '@caus-stat': 'caus'}, {'@id': 'a#01364817', '@noun-id': 'n#07535010', '@caus-stat': 'stat'}, {'@id': 'a#00154583', '@noun-id': 'n#07536245', '@caus-stat': 'stat'}, {'@id': 'a#00908929', '@noun-id': 'n#07526757', '@caus-stat': 'stat'}, {'@id': 'a#01805157', '@noun-id': 'n#07526757', '@caus-stat': 'stat'}, {'@id': 'a#01148283', '@noun-id': 'n#07526757', '@caus-stat': 'stat'}, {'@id': 'a#01460421', '@noun-id': 'n#07546465', '@caus-stat': 'caus'}, {'@id': 'a#01158020', '@noun-id': 'n#07506149', '@caus-stat': 'stat'}, {'@id': 'a#01362598', '@noun-id': 'n#07533492', '@caus-stat': 'stat'}, {'@id': 'a#01266841', '@noun-id': 'n#07529377', '@caus-stat': 'caus'}, {'@id': 'a#01266841', '@noun-id': 'n#07529377', '@caus-stat': 'stat'}, {'@id': 'a#01228530', '@noun-id': 'n#07511733', '@caus-stat': 'caus'}, {'@id': 'a#01228530', '@noun-id': 'n#07511733', '@caus-stat': 'stat'}, {'@id': 'a#01228530', '@noun-id': 'n#07541053', '@caus-stat': 'caus'}, {'@id': 'a#01228530', '@noun-id': 'n#07541316', '@caus-stat': 'caus'}, {'@id': 'a#01229020', '@noun-id': 'n#07542249', '@caus-stat': 'stat'}, {'@id': 'a#00193480', '@noun-id': 'n#07520411', '@caus-stat': 'caus'}, {'@id': 'a#00079786', '@noun-id': 'n#07520411', '@caus-stat': 'stat'}, {'@id': 'a#00193799', '@noun-id': 'n#07520411', '@caus-stat': 'caus'}, {'@id': 'a#01626562', '@noun-id': 'n#07520411', '@caus-stat': 'caus'}, {'@id': 'a#00193480', '@noun-id': 'n#07520411', '@caus-stat': 'caus'}, {'@id': 'a#01244410', '@noun-id': 'n#07547805', '@caus-stat': 'stat'}, {'@id': 'a#01137994', '@noun-id': 'n#07517869', '@caus-stat': 'stat'}, {'@id': 'a#00115193', '@noun-id': 'n#07517869', '@caus-stat': 'stat'}, {'@id': 'a#00752555', '@noun-id': 'n#07509131', '@caus-stat': 'caus'}, {'@id': 'a#00154270', '@noun-id': 'n#07509131', '@caus-stat': 'stat'}, {'@id': 'a#00086606', '@noun-id': 'n#07520507', '@caus-stat': 'stat'}, {'@id': 'a#01724072', '@noun-id': 'n#07505676', '@caus-stat': 'stat'}, {'@id': 'a#01342949', '@noun-id': 'n#07505676', '@caus-stat': 'stat'}, {'@id': 'a#00115494', '@noun-id': 'n#07517737', '@caus-stat': 'stat'}, {'@id': 'a#01809245', '@noun-id': 'n#07517417', '@caus-stat': 'caus'}, {'@id': 'a#00114454', '@noun-id': 'n#07517417', '@caus-stat': 'stat'}, {'@id': 'a#02093493', '@noun-id': 'n#07524918', '@caus-stat': 'stat'}, {'@id': 'a#00079262', '@noun-id': 'n#07523760', '@caus-stat': 'stat'}, {'@id': 'a#00252733', '@noun-id': 'n#07523760', '@caus-stat': 'stat'}, {'@id': 'a#00114921', '@noun-id': 'n#07552549', '@caus-stat': 'stat'}, {'@id': 'a#02110447', '@noun-id': 'n#07502576', '@caus-stat': 'stat'}, {'@id': 'a#02464105', '@noun-id': 'n#07550079', '@caus-stat': 'stat'}, {'@id': 'a#00888765', '@noun-id': 'n#07550079', '@caus-stat': 'stat'}, {'@id': 'a#02406370', '@noun-id': 'n#07525760', '@caus-stat': 'stat'}, {'@id': 'a#01367651', '@noun-id': 'n#07529683', '@caus-stat': 'stat'}, {'@id': 'a#01367651', '@noun-id': 'n#07551890', '@caus-stat': 'stat'}, {'@id': 'a#01366718', '@noun-id': 'n#07527352', '@caus-stat': 'stat'}, {'@id': 'a#01367211', '@noun-id': 'n#07527352', '@caus-stat': 'stat'}, {'@id': 'a#01363613', '@noun-id': 'n#07527352', '@caus-stat': 'stat'}, {'@id': 'a#01363613', '@noun-id': 'n#07527352', '@caus-stat': 'caus'}, {'@id': 'a#01373545', '@noun-id': 'n#07553590', '@caus-stat': 'stat'}, {'@id': 'a#00876204', '@noun-id': 'n#07516222', '@caus-stat': 'stat'}, {'@id': 'a#00876204', '@noun-id': 'n#07484109', '@caus-stat': 'stat'}, {'@id': 'a#01461292', '@noun-id': 'n#07497473', '@caus-stat': 'caus'}, {'@id': 'a#00115906', '@noun-id': 'n#07517292', '@caus-stat': 'stat'}, {'@id': 'a#01463965', '@noun-id': 'n#07543288', '@caus-stat': 'stat'}, {'@id': 'a#00224515', '@noun-id': 'n#07550551', '@caus-stat': 'caus'}, {'@id': 'a#00225564', '@noun-id': 'n#07550369', '@caus-stat': 'stat'}, {'@id': 'a#00225564', '@noun-id': 'n#07550666', '@caus-stat': 'stat'}, {'@id': 'a#01362684', '@noun-id': 'n#07533097', '@caus-stat': 'caus'}, {'@id': 'a#01362684', '@noun-id': 'n#07533097', '@caus-stat': 'stat'}, {'@id': 'a#01507134', '@noun-id': 'n#07554500', '@caus-stat': 'stat'}, {'@id': 'a#01138161', '@noun-id': 'n#07546844', '@caus-stat': 'stat'}, {'@id': 'a#01050890', '@noun-id': 'n#07533978', '@caus-stat': 'caus'}, {'@id': 'a#01150205', '@noun-id': 'n#07533978', '@caus-stat': 'stat'}, {'@id': 'a#02464491', '@noun-id': 'n#07547064', '@caus-stat': 'stat'}, {'@id': 'a#01362387', '@noun-id': 'n#07535209', '@caus-stat': 'caus'}, {'@id': 'a#01362387', '@noun-id': 'n#07535209', '@caus-stat': 'stat'}, {'@id': 'a#01366157', '@noun-id': 'n#07535209', '@caus-stat': 'stat'}, {'@id': 'a#02560035', '@noun-id': 'n#07504111', '@caus-stat': 'caus'}, {'@id': 'a#02545689', '@noun-id': 'n#07504111', '@caus-stat': 'stat'}, {'@id': 'a#00788474', '@noun-id': 'n#07538674', '@caus-stat': 'caus'}, {'@id': 'a#00869972', '@noun-id': 'n#07538674', '@caus-stat': 'stat'}, {'@id': 'a#01051718', '@noun-id': 'n#07538674', '@caus-stat': 'stat'}, {'@id': 'a#01663571', '@noun-id': 'n#07541558', '@caus-stat': 'stat'}, {'@id': 'a#00080357', '@noun-id': 'n#07520612', '@caus-stat': 'stat'}, {'@id': 'a#01742119', '@noun-id': 'n#07515790', '@caus-stat': 'stat'}, {'@id': 'a#01362950', '@noun-id': 'n#07533607', '@caus-stat': 'stat'}, {'@id': 'a#02419434', '@noun-id': 'n#07533607', '@caus-stat': 'stat'}, {'@id': 'a#01664581', '@noun-id': 'n#07543033', '@caus-stat': 'stat'}, {'@id': 'a#00302951', '@noun-id': 'n#07515169', '@caus-stat': 'stat'}, {'@id': 'a#01366157', '@noun-id': 'n#07535430', '@caus-stat': 'stat'}, {'@id': 'a#00704898', '@noun-id': 'n#07508486', '@caus-stat': 'stat'}, {'@id': 'a#01889256', '@noun-id': 'n#07508486', '@caus-stat': 'stat'}, {'@id': 'a#00704898', '@noun-id': 'n#07531536', '@caus-stat': 'stat'}, {'@id': 'a#02449177', '@noun-id': 'n#07545303', '@caus-stat': 'caus'}, {'@id': 'a#00704898', '@noun-id': 'n#07529563', '@caus-stat': 'stat'}, {'@id': 'a#01743217', '@noun-id': 'n#07536870', '@caus-stat': 'stat'}, {'@id': 'a#00221934', '@noun-id': 'n#07503987', '@caus-stat': 'caus'}, {'@id': 'a#01625063', '@noun-id': 'n#07503987', '@caus-stat': 'caus'}, {'@id': 'a#00116529', '@noun-id': 'n#07548978', '@caus-stat': 'stat'}, {'@id': 'a#02011810', '@noun-id': 'n#07521039', '@caus-stat': 'stat'}, {'@id': 'a#01366277', '@noun-id': 'n#07532440', '@caus-stat': 'caus'}, {'@id': 'a#01149494', '@noun-id': 'n#07532440', '@caus-stat': 'caus'}, {'@id': 'a#01149494', '@noun-id': 'n#07532440', '@caus-stat': 'stat'}, {'@id': 'a#01361863', '@noun-id': 'n#07532440', '@caus-stat': 'caus'}, {'@id': 'a#01361863', '@noun-id': 'n#07532440', '@caus-stat': 'stat'}, {'@id': 'a#01664455', '@noun-id': 'n#07541760', '@caus-stat': 'stat'}, {'@id': 'a#02081563', '@noun-id': 'n#07531255', '@caus-stat': 'caus'}, {'@id': 'a#01807219', '@noun-id': 'n#07531255', '@caus-stat': 'caus'}, {'@id': 'a#00589344', '@noun-id': 'n#07531255', '@caus-stat': 'stat'}, {'@id': 'a#02078264', '@noun-id': 'n#07531255', '@caus-stat': 'caus'}, {'@id': 'a#02080577', '@noun-id': 'n#07531255', '@caus-stat': 'caus'}, {'@id': 'a#00194924', '@noun-id': 'n#07521437', '@caus-stat': 'caus'}, {'@id': 'a#00079629', '@noun-id': 'n#07521437', '@caus-stat': 'stat'}, {'@id': 'a#00196934', '@noun-id': 'n#07526338', '@caus-stat': 'caus'}, {'@id': 'a#00339599', '@noun-id': 'n#07526338', '@caus-stat': 'stat'}, {'@id': 'a#02101942', '@noun-id': 'n#07514782', '@caus-stat': 'caus'}, {'@id': 'a#02101580', '@noun-id': 'n#07514782', '@caus-stat': 'caus'}, {'@id': 'a#01549964', '@noun-id': 'n#07506569', '@caus-stat': 'caus'}, {'@id': 'a#01227546', '@noun-id': 'n#07506569', '@caus-stat': 'caus'}, {'@id': 'a#00154837', '@noun-id': 'n#07506569', '@caus-stat': 'stat'}, {'@id': 'a#00154583', '@noun-id': 'n#07506569', '@caus-stat': 'stat'}, {'@id': 'a#00153898', '@noun-id': 'n#07506569', '@caus-stat': 'stat'}, {'@id': 'a#00154583', '@noun-id': 'n#07507560', '@caus-stat': 'stat'}, {'@id': 'a#00154837', '@noun-id': 'n#07507560', '@caus-stat': 'stat'}, {'@id': 'a#00162863', '@noun-id': 'n#07523180', '@caus-stat': 'stat'}, {'@id': 'a#00339941', '@noun-id': 'n#07523180', '@caus-stat': 'stat'}, {'@id': 'a#00589448', '@noun-id': 'n#07531998', '@caus-stat': 'stat'}, {'@id': 'a#01158453', '@noun-id': 'n#07505347', '@caus-stat': 'stat'}, {'@id': 'a#00544860', '@noun-id': 'n#07505207', '@caus-stat': 'stat'}, {'@id': 'a#01364817', '@noun-id': 'n#07534430', '@caus-stat': 'stat'}, {'@id': 'a#01364008', '@noun-id': 'n#07534430', '@caus-stat': 'stat'}, {'@id': 'a#01743506', '@noun-id': 'n#07535670', '@caus-stat': 'stat'}, {'@id': 'a#01150475', '@noun-id': 'n#07535670', '@caus-stat': 'stat'}, {'@id': 'a#01283155', '@noun-id': 'n#07510495', '@caus-stat': 'caus'}, {'@id': 'a#00196312', '@noun-id': 'n#07510495', '@caus-stat': 'caus'}, {'@id': 'a#00436645', '@noun-id': 'n#07510495', '@caus-stat': 'stat'}, {'@id': 'a#02358277', '@noun-id': 'n#07510495', '@caus-stat': 'stat'}, {'@id': 'a#01137994', '@noun-id': 'n#07549401', '@caus-stat': 'stat'}, {'@id': 'a#02359464', '@noun-id': 'n#07510348', '@caus-stat': 'caus'}, {'@id': 'a#02357479', '@noun-id': 'n#07510348', '@caus-stat': 'stat'}, {'@id': 'a#01372948', '@noun-id': 'n#07553301', '@caus-stat': 'stat'}, {'@id': 'a#02374914', '@noun-id': 'n#07553301', '@caus-stat': 'stat'}, {'@id': 'a#01464700', '@noun-id': 'n#07554342', '@caus-stat': 'stat'}, {'@id': 'a#02448889', '@noun-id': 'n#07554342', '@caus-stat': 'stat'}, {'@id': 'a#00339941', '@noun-id': 'n#07522729', '@caus-stat': 'stat'}, {'@id': 'a#00251809', '@noun-id': 'n#07522729', '@caus-stat': 'stat'}, {'@id': 'a#00922344', '@noun-id': 'n#07528976', '@caus-stat': 'caus'}, {'@id': 'a#00920603', '@noun-id': 'n#07528976', '@caus-stat': 'stat'}, {'@id': 'a#00529657', '@noun-id': 'n#07515560', '@caus-stat': 'caus'}, {'@id': 'a#00252498', '@noun-id': 'n#07522043', '@caus-stat': 'stat'}, {'@id': 'a#00704898', '@noun-id': 'n#07528097', '@caus-stat': 'stat'}, {'@id': 'a#00115494', '@noun-id': 'n#07517550', '@caus-stat': 'stat'}, {'@id': 'a#00156839', '@noun-id': 'n#07523649', '@caus-stat': 'stat'}, {'@id': 'a#00545015', '@noun-id': 'n#07505538', '@caus-stat': 'stat'}, {'@id': 'a#01246388', '@noun-id': 'n#07502241', '@caus-stat': 'stat'}, {'@id': 'a#01076793', '@noun-id': 'n#07502241', '@caus-stat': 'stat'}, {'@id': 'a#00225099', '@noun-id': 'n#07550891', '@caus-stat': 'stat'}, {'@id': 'a#02533313', '@noun-id': 'n#07546279', '@caus-stat': 'stat'}, {'@id': 'a#01365239', '@noun-id': 'n#07534278', '@caus-stat': 'stat'}, {'@id': 'a#02347086', '@noun-id': 'n#07533877', '@caus-stat': 'caus'}, {'@id': 'a#01366525', '@noun-id': 'n#07533877', '@caus-stat': 'stat'}, {'@id': 'a#01676517', '@noun-id': 'n#07509996', '@caus-stat': 'caus'}, {'@id': 'a#02432682', '@noun-id': 'n#07533735', '@caus-stat': 'stat'}, {'@id': 'a#02012073', '@noun-id': 'n#07501420', '@caus-stat': 'stat'}, {'@id': 'a#00116245', '@noun-id': 'n#07516905', '@caus-stat': 'stat'}]\n"
          ]
        }
      ],
      "source": [
        "print(syn_dic['adj-syn-list']['adj-syn'])"
      ]
    },
    {
      "cell_type": "markdown",
      "metadata": {
        "id": "B9dc_D8CEMEJ"
      },
      "source": [
        "Assigning emotional category to the items in the dataset."
      ]
    },
    {
      "cell_type": "code",
      "execution_count": null,
      "metadata": {
        "id": "VqskvwEaa-GQ",
        "colab": {
          "base_uri": "https://localhost:8080/"
        },
        "outputId": "11e1a677-7936-4424-f583-8382b71a3082"
      },
      "outputs": [
        {
          "output_type": "stream",
          "name": "stdout",
          "text": [
            "             id    categ\n",
            "654  00704249-v  anxiety\n"
          ]
        }
      ],
      "source": [
        "n_l = cat_assign(syn_dic['noun-syn-list']['noun-syn'])\n",
        "a_l = cat_assign(syn_dic['adj-syn-list']['adj-syn'], noun=False)\n",
        "v_l = cat_assign(syn_dic['verb-syn-list']['verb-syn'], noun=False)\n",
        "r_l = cat_assign(syn_dic['adv-syn-list']['adv-syn'], noun=False)\n",
        "c_l = n_l + a_l + v_l + r_l\n",
        "c_df = pd.DataFrame(c_l, columns=['id', 'categ'])\n",
        "c_df = c_df.drop_duplicates()\n",
        "print(c_df.sample())"
      ]
    },
    {
      "cell_type": "markdown",
      "metadata": {
        "id": "17Bf7jtvdwnE"
      },
      "source": [
        "Tagging the emotional categories to the items in the dataset."
      ]
    },
    {
      "cell_type": "code",
      "execution_count": null,
      "metadata": {
        "id": "gx1MMa_2Jhcm"
      },
      "outputs": [],
      "source": [
        "multilingual = multilingual.merge(c_df, on='id', how='left')"
      ]
    },
    {
      "cell_type": "code",
      "execution_count": null,
      "metadata": {
        "id": "lmGAxuL0cBup",
        "colab": {
          "base_uri": "https://localhost:8080/"
        },
        "outputId": "a1824369-350b-4c27-f377-a338ad8dffe5"
      },
      "outputs": [
        {
          "output_type": "stream",
          "name": "stdout",
          "text": [
            "              id                  word_eng                  word_fin  \\\n",
            "6266  09092497-n  Maine,Pine Tree State,ME  Maine,Pine Tree State,ME   \n",
            "\n",
            "               word_jpn word_slv  word_spa         word_tha  \\\n",
            "6266  メーン,マツの州,メーン州,松の州    Maine  Maine,me  มลรัฐเมน,รัฐเมน   \n",
            "\n",
            "                            word_zsm categ  \n",
            "6266  Maine,Pine Tree State,aku,saya   NaN  \n"
          ]
        }
      ],
      "source": [
        "print(multilingual.sample())"
      ]
    },
    {
      "cell_type": "markdown",
      "metadata": {
        "id": "uE4IU6geHRTh"
      },
      "source": [
        "Filtering out the words in the database that has an emotional category."
      ]
    },
    {
      "cell_type": "code",
      "execution_count": null,
      "metadata": {
        "id": "WHNeHqCVEaBh",
        "colab": {
          "base_uri": "https://localhost:8080/"
        },
        "outputId": "7425e525-0438-4962-83a3-b523af803ba3"
      },
      "outputs": [
        {
          "output_type": "stream",
          "name": "stdout",
          "text": [
            "              id                                           word_eng  \\\n",
            "71    00029933-a  avaricious,covetous,grabby,grasping,greedy,pre...   \n",
            "208   00079485-a                                            fearful   \n",
            "211   00080357-a  panicky,panicked,panic-stricken,panic-struck,t...   \n",
            "214   00081671-a                                  unafraid,fearless   \n",
            "231   00089550-a  annoying,bothersome,galling,irritating,nettles...   \n",
            "...          ...                                                ...   \n",
            "5186  07554856-n                                            empathy   \n",
            "5187  07555014-n                                         enthusiasm   \n",
            "5188  07555184-n                eagerness,avidity,avidness,keenness   \n",
            "5189  07555402-n                             ardor,ardour,elan,zeal   \n",
            "5190  07555647-n                                         exuberance   \n",
            "\n",
            "                                               word_fin  \\\n",
            "71                    ahne,rahanahne,himokas,himoitseva   \n",
            "208                            pelokas,peloissaan oleva   \n",
            "211   kauhistunut,pelästynyt,peloissaan oleva,suunni...   \n",
            "214                                             peloton   \n",
            "231   ikävä,harmillinen,ärsyttävä,sapettava,kiukutta...   \n",
            "...                                                 ...   \n",
            "5186                                            empatia   \n",
            "5187                                           innostus   \n",
            "5188                  into,ahnaus,kiihkeä halu,kiihkeys   \n",
            "5189             into,kiihko,eloisuus,vauhti,lennokkuus   \n",
            "5190                                     ylenpalttisuus   \n",
            "\n",
            "                                               word_jpn  \\\n",
            "71                                            欲深い,欲深,貪欲   \n",
            "208                                        怖がっている,恐れている   \n",
            "211                            うろたえた,上を下へ,恐怖した,パニックに陥った   \n",
            "214                  不敵,大胆,恐れない,恐いもの知らず,放胆,こわいもの知らず,野太い   \n",
            "231   いまいましい,うざったい,じゃまっけ,うるさい,うざい,五月蝿い,五月蠅い,小にくらしい,心...   \n",
            "...                                                 ...   \n",
            "5186                                               感情移入   \n",
            "5187  強い興味,忘我,情熱,意気ごみ,意気組み,意気込み,気勢,気組み,気込み,熱中,熱心,熱情,...   \n",
            "5188   意欲,意気組み,意気組,意気込み,熱心なこと,熱心さ,熱心,熱意,熱烈なこと,貪欲なこと,貪欲さ   \n",
            "5189                                           情熱,熱情,熱意   \n",
            "5190                                                 充溢   \n",
            "\n",
            "                                               word_slv  \\\n",
            "71           dobičkarski,lakomen,pohlepen,skop,skopuški   \n",
            "208                                           bojazljiv   \n",
            "211               brezglav,paničen,preplašen,prestrašen   \n",
            "214                                          neustrašen   \n",
            "231   dražljiv,mučen,muči,nadležen,neprijeten,neugod...   \n",
            "...                                                 ...   \n",
            "5186                                           empatija   \n",
            "5187                              entuziazem,navdušenje   \n",
            "5188                                    gorečnost,vnema   \n",
            "5189                         gorečnost,strastnost,vnema   \n",
            "5190                                         zanesenost   \n",
            "\n",
            "                                               word_spa  \\\n",
            "71    avariciosa,avaricioso,avarienta,avariento,avar...   \n",
            "208                                             miedoso   \n",
            "211                aterrorizado,despavorido,petrificado   \n",
            "214                                        impertérrito   \n",
            "231   cargante,enfadoso,enojoso,fastidioso,irritante...   \n",
            "...                                                 ...   \n",
            "5186                                            empatía   \n",
            "5187                                         entusiasmo   \n",
            "5188         afán,anhelo,ansia,ardor,avidez,impaciencia   \n",
            "5189                 afán,ahínco,ardor,brío,celo,fervor   \n",
            "5190                                        exuberancia   \n",
            "\n",
            "                    word_tha  \\\n",
            "71                       โลภ   \n",
            "208   ซึ่งเต็มไปด้วยความกลัว   \n",
            "211             ซึ่งตื่นกลัว   \n",
            "214                   ใจกล้า   \n",
            "231                 น่ารำคาญ   \n",
            "...                      ...   \n",
            "5186        ความเห็นอกเห็นใจ   \n",
            "5187        ความกระตือรือร้น   \n",
            "5188        ความกระตือรือร้น   \n",
            "5189             ความปรารถนา   \n",
            "5190     ความกระปรี้กระเปร่า   \n",
            "\n",
            "                                               word_zsm            categ  \n",
            "71                              loba,rakus,tamak,haloba  general-dislike  \n",
            "208                                               takut    negative-fear  \n",
            "211                            cemas,gentar,gerun,panik    negative-fear  \n",
            "214                              berani,megak,pemberani     fearlessness  \n",
            "231   bedebah,celaka,menjengkelkan,mengusik-usik,men...  general-dislike  \n",
            "...                                                 ...              ...  \n",
            "5186                                 empati,kesefahaman           liking  \n",
            "5187                                            ghairah       enthusiasm  \n",
            "5188                             hasrat,keinginan,minat       enthusiasm  \n",
            "5189              giat,minat,rajin,semangat,keghairahan       enthusiasm  \n",
            "5190                                     penuh semangat              joy  \n",
            "\n",
            "[99 rows x 9 columns]\n"
          ]
        }
      ],
      "source": [
        "emo_data = multilingual[multilingual.categ.notnull()]\n",
        "print(emo_data)"
      ]
    },
    {
      "cell_type": "code",
      "execution_count": null,
      "metadata": {
        "id": "D7tD6Gz0Fu73",
        "colab": {
          "base_uri": "https://localhost:8080/"
        },
        "outputId": "aa2c26ae-048f-4de9-cadc-c36275337e81"
      },
      "outputs": [
        {
          "output_type": "stream",
          "name": "stdout",
          "text": [
            "              id                              word_eng  \\\n",
            "5168  07542675-n  discouragement,disheartenment,dismay   \n",
            "\n",
            "                      word_fin                      word_jpn   word_slv  \\\n",
            "5168  tyrmistys,masennus,pelko  力落とし,力落し,大腐り,大腐,挫折,挫折感,落胆,銷魂  malodušje   \n",
            "\n",
            "                 word_spa                             word_tha  \\\n",
            "5168  desaliento,desánimo  ความท้อแท้,ความท้อใจ,ความหมดกำลังใจ   \n",
            "\n",
            "                                               word_zsm    categ  \n",
            "5168  kehampaan,kekecewaan,kekesalan,kemurungan,putu...  despair  \n"
          ]
        }
      ],
      "source": [
        "print(emo_data.sample())"
      ]
    },
    {
      "cell_type": "markdown",
      "metadata": {
        "id": "ENK4JbYLZ6Iq"
      },
      "source": [
        "Saving the resulting dataset."
      ]
    },
    {
      "cell_type": "code",
      "execution_count": null,
      "metadata": {
        "id": "yZ0c-PUnVVT-"
      },
      "outputs": [],
      "source": [
        "emo_data.to_csv('MultilingualData.csv', encoding='utf-8')"
      ]
    },
    {
      "cell_type": "code",
      "execution_count": null,
      "metadata": {
        "id": "Z7qvjHZtWjJq"
      },
      "outputs": [],
      "source": [
        "!cp MultilingualData.csv /content/drive/MyDrive/"
      ]
    }
  ],
  "metadata": {
    "colab": {
      "provenance": [],
      "machine_shape": "hm",
      "gpuType": "T4"
    },
    "kernelspec": {
      "display_name": "Python 3",
      "name": "python3"
    },
    "language_info": {
      "name": "python"
    }
  },
  "nbformat": 4,
  "nbformat_minor": 0
}